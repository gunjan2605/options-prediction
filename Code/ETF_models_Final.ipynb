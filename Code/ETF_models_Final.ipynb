{
 "cells": [
  {
   "cell_type": "code",
   "execution_count": 2,
   "metadata": {
    "executionInfo": {
     "elapsed": 2282,
     "status": "ok",
     "timestamp": 1619406577075,
     "user": {
      "displayName": "Tina Guo",
      "photoUrl": "",
      "userId": "10573035161651956848"
     },
     "user_tz": 300
    },
    "id": "0hM60U84uJ9z"
   },
   "outputs": [],
   "source": [
    "import pandas as pd\n",
    "import matplotlib.pyplot as plt\n",
    "from datetime import datetime as dt\n",
    "import numpy as np\n",
    "\n",
    "%matplotlib inline\n",
    "\n",
    "from sklearn.model_selection import train_test_split\n",
    "from sklearn.tree import DecisionTreeClassifier\n",
    "from sklearn import tree\n",
    "from sklearn.metrics import plot_confusion_matrix\n",
    "from sklearn.neighbors import KNeighborsClassifier\n",
    "\n",
    "from sklearn.model_selection import validation_curve\n",
    "from sklearn.neural_network import MLPClassifier\n",
    "from sklearn.svm import SVC"
   ]
  },
  {
   "cell_type": "code",
   "execution_count": 3,
   "metadata": {},
   "outputs": [],
   "source": [
    "from sklearn.model_selection import GridSearchCV\n",
    "from sklearn.metrics import classification_report, precision_recall_curve, plot_precision_recall_curve, average_precision_score"
   ]
  },
  {
   "cell_type": "code",
   "execution_count": 4,
   "metadata": {},
   "outputs": [],
   "source": [
    "from sklearn.preprocessing import StandardScaler"
   ]
  },
  {
   "cell_type": "markdown",
   "metadata": {
    "id": "5-uh_evTcXNf"
   },
   "source": [
    "# Read ETF Data"
   ]
  },
  {
   "cell_type": "code",
   "execution_count": 5,
   "metadata": {
    "colab": {
     "base_uri": "https://localhost:8080/",
     "height": 240
    },
    "executionInfo": {
     "elapsed": 433,
     "status": "ok",
     "timestamp": 1619409435913,
     "user": {
      "displayName": "Tina Guo",
      "photoUrl": "",
      "userId": "10573035161651956848"
     },
     "user_tz": 300
    },
    "id": "oJfkpAK-nkEa",
    "outputId": "198f5428-40b6-4d98-83b1-a0f065191117"
   },
   "outputs": [
    {
     "data": {
      "text/html": [
       "<div>\n",
       "<style scoped>\n",
       "    .dataframe tbody tr th:only-of-type {\n",
       "        vertical-align: middle;\n",
       "    }\n",
       "\n",
       "    .dataframe tbody tr th {\n",
       "        vertical-align: top;\n",
       "    }\n",
       "\n",
       "    .dataframe thead th {\n",
       "        text-align: right;\n",
       "    }\n",
       "</style>\n",
       "<table border=\"1\" class=\"dataframe\">\n",
       "  <thead>\n",
       "    <tr style=\"text-align: right;\">\n",
       "      <th></th>\n",
       "      <th>Unnamed: 0</th>\n",
       "      <th>Open</th>\n",
       "      <th>High</th>\n",
       "      <th>Low</th>\n",
       "      <th>Close</th>\n",
       "      <th>Adj Close</th>\n",
       "      <th>Volume</th>\n",
       "      <th>Sym</th>\n",
       "      <th>ExpirationDate</th>\n",
       "      <th>index</th>\n",
       "      <th>...</th>\n",
       "      <th>Spent</th>\n",
       "      <th>Sector</th>\n",
       "      <th>ChainLocation</th>\n",
       "      <th>Spent/contract</th>\n",
       "      <th>Spent/share</th>\n",
       "      <th>break_even</th>\n",
       "      <th>Contract period in hrs</th>\n",
       "      <th>Contract period in days</th>\n",
       "      <th>attention</th>\n",
       "      <th>Profit</th>\n",
       "    </tr>\n",
       "  </thead>\n",
       "  <tbody>\n",
       "    <tr>\n",
       "      <th>0</th>\n",
       "      <td>0</td>\n",
       "      <td>256.619995</td>\n",
       "      <td>257.220001</td>\n",
       "      <td>255.630005</td>\n",
       "      <td>256.440002</td>\n",
       "      <td>240.434677</td>\n",
       "      <td>80811500</td>\n",
       "      <td>SPY</td>\n",
       "      <td>2017-11-15</td>\n",
       "      <td>42821</td>\n",
       "      <td>...</td>\n",
       "      <td>16000</td>\n",
       "      <td>ETF</td>\n",
       "      <td>OTM</td>\n",
       "      <td>160.0</td>\n",
       "      <td>1.6</td>\n",
       "      <td>258.6</td>\n",
       "      <td>6.674722</td>\n",
       "      <td>0</td>\n",
       "      <td>43.0</td>\n",
       "      <td>False</td>\n",
       "    </tr>\n",
       "    <tr>\n",
       "      <th>1</th>\n",
       "      <td>1</td>\n",
       "      <td>256.619995</td>\n",
       "      <td>257.220001</td>\n",
       "      <td>255.630005</td>\n",
       "      <td>256.440002</td>\n",
       "      <td>240.434677</td>\n",
       "      <td>80811500</td>\n",
       "      <td>SPY</td>\n",
       "      <td>2017-11-15</td>\n",
       "      <td>42830</td>\n",
       "      <td>...</td>\n",
       "      <td>36000</td>\n",
       "      <td>ETF</td>\n",
       "      <td>OTM</td>\n",
       "      <td>360.0</td>\n",
       "      <td>3.6</td>\n",
       "      <td>260.6</td>\n",
       "      <td>5.980000</td>\n",
       "      <td>0</td>\n",
       "      <td>43.0</td>\n",
       "      <td>False</td>\n",
       "    </tr>\n",
       "    <tr>\n",
       "      <th>2</th>\n",
       "      <td>2</td>\n",
       "      <td>256.619995</td>\n",
       "      <td>257.220001</td>\n",
       "      <td>255.630005</td>\n",
       "      <td>256.440002</td>\n",
       "      <td>240.434677</td>\n",
       "      <td>80811500</td>\n",
       "      <td>SPY</td>\n",
       "      <td>2017-11-15</td>\n",
       "      <td>42909</td>\n",
       "      <td>...</td>\n",
       "      <td>65000</td>\n",
       "      <td>ETF</td>\n",
       "      <td>ATM</td>\n",
       "      <td>650.0</td>\n",
       "      <td>6.5</td>\n",
       "      <td>264.0</td>\n",
       "      <td>31.097778</td>\n",
       "      <td>1</td>\n",
       "      <td>43.0</td>\n",
       "      <td>False</td>\n",
       "    </tr>\n",
       "  </tbody>\n",
       "</table>\n",
       "<p>3 rows × 27 columns</p>\n",
       "</div>"
      ],
      "text/plain": [
       "   Unnamed: 0        Open        High         Low       Close   Adj Close  \\\n",
       "0           0  256.619995  257.220001  255.630005  256.440002  240.434677   \n",
       "1           1  256.619995  257.220001  255.630005  256.440002  240.434677   \n",
       "2           2  256.619995  257.220001  255.630005  256.440002  240.434677   \n",
       "\n",
       "     Volume  Sym ExpirationDate  index  ...  Spent Sector ChainLocation  \\\n",
       "0  80811500  SPY     2017-11-15  42821  ...  16000    ETF           OTM   \n",
       "1  80811500  SPY     2017-11-15  42830  ...  36000    ETF           OTM   \n",
       "2  80811500  SPY     2017-11-15  42909  ...  65000    ETF           ATM   \n",
       "\n",
       "  Spent/contract  Spent/share  break_even Contract period in hrs  \\\n",
       "0          160.0          1.6       258.6               6.674722   \n",
       "1          360.0          3.6       260.6               5.980000   \n",
       "2          650.0          6.5       264.0              31.097778   \n",
       "\n",
       "   Contract period in days attention Profit  \n",
       "0                        0      43.0  False  \n",
       "1                        0      43.0  False  \n",
       "2                        1      43.0  False  \n",
       "\n",
       "[3 rows x 27 columns]"
      ]
     },
     "execution_count": 5,
     "metadata": {},
     "output_type": "execute_result"
    }
   ],
   "source": [
    "data = pd.read_csv('../Data/ETF/ETF_cleaned.csv')\n",
    "data.head(3)"
   ]
  },
  {
   "cell_type": "code",
   "execution_count": 6,
   "metadata": {
    "executionInfo": {
     "elapsed": 350,
     "status": "ok",
     "timestamp": 1619409436964,
     "user": {
      "displayName": "Tina Guo",
      "photoUrl": "",
      "userId": "10573035161651956848"
     },
     "user_tz": 300
    },
    "id": "mxHUX2RFa4OX"
   },
   "outputs": [],
   "source": [
    "data.drop(['Unnamed: 0','Unnamed: 0.1', 'Spent', 'Spent/contract', 'Open', 'High', 'Low', 'Time', 'Close', 'Adj Close', 'OptionType', 'Sym', 'Expiration', 'ChainLocation', 'Sector', 'Contract period in days','index'], axis=1,inplace=True)\n",
    "data['ExpirationDate'] = data['ExpirationDate'].astype('datetime64[ns]').map(dt.toordinal)\n",
    "data['Date'] = data['Date'].astype('datetime64[ns]').map(dt.toordinal)\n",
    "data['Profit'] = data[\"Profit\"].astype(int)\n",
    "data=data.reset_index(drop=True)"
   ]
  },
  {
   "cell_type": "code",
   "execution_count": 7,
   "metadata": {
    "colab": {
     "base_uri": "https://localhost:8080/",
     "height": 135
    },
    "executionInfo": {
     "elapsed": 505,
     "status": "ok",
     "timestamp": 1619409439584,
     "user": {
      "displayName": "Tina Guo",
      "photoUrl": "",
      "userId": "10573035161651956848"
     },
     "user_tz": 300
    },
    "id": "Mpk6Nu8Ikugq",
    "outputId": "e1fbd1b0-89e3-4576-d43d-f789fd966d26",
    "scrolled": true
   },
   "outputs": [
    {
     "data": {
      "text/html": [
       "<div>\n",
       "<style scoped>\n",
       "    .dataframe tbody tr th:only-of-type {\n",
       "        vertical-align: middle;\n",
       "    }\n",
       "\n",
       "    .dataframe tbody tr th {\n",
       "        vertical-align: top;\n",
       "    }\n",
       "\n",
       "    .dataframe thead th {\n",
       "        text-align: right;\n",
       "    }\n",
       "</style>\n",
       "<table border=\"1\" class=\"dataframe\">\n",
       "  <thead>\n",
       "    <tr style=\"text-align: right;\">\n",
       "      <th></th>\n",
       "      <th>Volume</th>\n",
       "      <th>ExpirationDate</th>\n",
       "      <th>Strike</th>\n",
       "      <th>StockPrice</th>\n",
       "      <th>Date</th>\n",
       "      <th>Spent/share</th>\n",
       "      <th>break_even</th>\n",
       "      <th>Contract period in hrs</th>\n",
       "      <th>attention</th>\n",
       "      <th>Profit</th>\n",
       "    </tr>\n",
       "  </thead>\n",
       "  <tbody>\n",
       "    <tr>\n",
       "      <th>0</th>\n",
       "      <td>80811500</td>\n",
       "      <td>736648</td>\n",
       "      <td>257.0</td>\n",
       "      <td>256.45</td>\n",
       "      <td>736648</td>\n",
       "      <td>1.6</td>\n",
       "      <td>258.6</td>\n",
       "      <td>6.674722</td>\n",
       "      <td>43.0</td>\n",
       "      <td>0</td>\n",
       "    </tr>\n",
       "    <tr>\n",
       "      <th>1</th>\n",
       "      <td>80811500</td>\n",
       "      <td>736648</td>\n",
       "      <td>257.0</td>\n",
       "      <td>256.95</td>\n",
       "      <td>736648</td>\n",
       "      <td>3.6</td>\n",
       "      <td>260.6</td>\n",
       "      <td>5.980000</td>\n",
       "      <td>43.0</td>\n",
       "      <td>0</td>\n",
       "    </tr>\n",
       "    <tr>\n",
       "      <th>2</th>\n",
       "      <td>80811500</td>\n",
       "      <td>736648</td>\n",
       "      <td>257.5</td>\n",
       "      <td>257.50</td>\n",
       "      <td>736647</td>\n",
       "      <td>6.5</td>\n",
       "      <td>264.0</td>\n",
       "      <td>31.097778</td>\n",
       "      <td>43.0</td>\n",
       "      <td>0</td>\n",
       "    </tr>\n",
       "  </tbody>\n",
       "</table>\n",
       "</div>"
      ],
      "text/plain": [
       "     Volume  ExpirationDate  Strike  StockPrice    Date  Spent/share  \\\n",
       "0  80811500          736648   257.0      256.45  736648          1.6   \n",
       "1  80811500          736648   257.0      256.95  736648          3.6   \n",
       "2  80811500          736648   257.5      257.50  736647          6.5   \n",
       "\n",
       "   break_even  Contract period in hrs  attention  Profit  \n",
       "0       258.6                6.674722       43.0       0  \n",
       "1       260.6                5.980000       43.0       0  \n",
       "2       264.0               31.097778       43.0       0  "
      ]
     },
     "execution_count": 7,
     "metadata": {},
     "output_type": "execute_result"
    }
   ],
   "source": [
    "data.head(3)"
   ]
  },
  {
   "cell_type": "markdown",
   "metadata": {},
   "source": [
    "# Standardize data"
   ]
  },
  {
   "cell_type": "code",
   "execution_count": 8,
   "metadata": {},
   "outputs": [],
   "source": [
    "X = data.loc[:, data.columns != 'Profit']\n",
    "y = data.loc[:, data.columns == 'Profit']"
   ]
  },
  {
   "cell_type": "code",
   "execution_count": 9,
   "metadata": {},
   "outputs": [],
   "source": [
    "scalar = StandardScaler()\n",
    "x_std = scalar.fit_transform(X)"
   ]
  },
  {
   "cell_type": "code",
   "execution_count": 10,
   "metadata": {},
   "outputs": [],
   "source": [
    "X_train_s, X_test_s, y_train_s, y_test_s = train_test_split(x_std, y,random_state = 123, test_size = 0.2)"
   ]
  },
  {
   "cell_type": "markdown",
   "metadata": {
    "id": "H0DKPxobUoQT"
   },
   "source": [
    "# Split Data 80/20"
   ]
  },
  {
   "cell_type": "markdown",
   "metadata": {
    "id": "WW9oSw_-CsiN"
   },
   "source": [
    "**Data is very imbalanced, we do not have many positive responses**"
   ]
  },
  {
   "cell_type": "code",
   "execution_count": 11,
   "metadata": {
    "executionInfo": {
     "elapsed": 221,
     "status": "ok",
     "timestamp": 1619409440699,
     "user": {
      "displayName": "Tina Guo",
      "photoUrl": "",
      "userId": "10573035161651956848"
     },
     "user_tz": 300
    },
    "id": "FvCOzmTd_fn1"
   },
   "outputs": [],
   "source": [
    "X_train, X_test, y_train, y_test = train_test_split(data.loc[:, data.columns != 'Profit'], data.loc[:, data.columns == 'Profit'],random_state = 123, test_size = 0.2)"
   ]
  },
  {
   "cell_type": "code",
   "execution_count": 12,
   "metadata": {
    "colab": {
     "base_uri": "https://localhost:8080/"
    },
    "executionInfo": {
     "elapsed": 305,
     "status": "ok",
     "timestamp": 1619409441400,
     "user": {
      "displayName": "Tina Guo",
      "photoUrl": "",
      "userId": "10573035161651956848"
     },
     "user_tz": 300
    },
    "id": "Acjug8TGBDyW",
    "outputId": "d8a964d6-14ca-4e9f-e38b-e4bda295b5a1"
   },
   "outputs": [
    {
     "name": "stdout",
     "output_type": "stream",
     "text": [
      "Profit is True:  324\n",
      "Profit is False:  4216\n"
     ]
    }
   ],
   "source": [
    "print(\"Profit is True: \",y_train[y_train == 1].count()[0])\n",
    "print(\"Profit is False: \", y_train[y_train == 0].count()[0])"
   ]
  },
  {
   "cell_type": "code",
   "execution_count": 13,
   "metadata": {
    "colab": {
     "base_uri": "https://localhost:8080/"
    },
    "executionInfo": {
     "elapsed": 241,
     "status": "ok",
     "timestamp": 1619409442176,
     "user": {
      "displayName": "Tina Guo",
      "photoUrl": "",
      "userId": "10573035161651956848"
     },
     "user_tz": 300
    },
    "id": "tRhwNlpqBK2c",
    "outputId": "95b3a718-1495-4577-c792-0875e8120df1"
   },
   "outputs": [
    {
     "name": "stdout",
     "output_type": "stream",
     "text": [
      "Profit is True:  73\n",
      "Profit is False:  1063\n"
     ]
    }
   ],
   "source": [
    "print(\"Profit is True: \",y_test[y_test == 1].count()[0])\n",
    "print(\"Profit is False: \", y_test[y_test == 0].count()[0])"
   ]
  },
  {
   "cell_type": "code",
   "execution_count": 14,
   "metadata": {
    "executionInfo": {
     "elapsed": 168,
     "status": "ok",
     "timestamp": 1619406839599,
     "user": {
      "displayName": "Tina Guo",
      "photoUrl": "",
      "userId": "10573035161651956848"
     },
     "user_tz": 300
    },
    "id": "psyeukRBQ-8t"
   },
   "outputs": [],
   "source": [
    "y_train = y_train.values.ravel()\n",
    "y_test = y_test.values.ravel()\n",
    "y_train_s = y_train_s.values.ravel()"
   ]
  },
  {
   "cell_type": "markdown",
   "metadata": {
    "id": "X1tqy-9JBDlz"
   },
   "source": [
    "# KNN"
   ]
  },
  {
   "cell_type": "code",
   "execution_count": 44,
   "metadata": {
    "executionInfo": {
     "elapsed": 15446,
     "status": "ok",
     "timestamp": 1619406856308,
     "user": {
      "displayName": "Tina Guo",
      "photoUrl": "",
      "userId": "10573035161651956848"
     },
     "user_tz": 300
    },
    "id": "k5-rdetFCCKO"
   },
   "outputs": [],
   "source": [
    "param_range_knn = np.arange(2,25)\n",
    "train_scores_knn, test_scores_knn = validation_curve(KNeighborsClassifier(weights = \"uniform\"), X_train, y_train, param_name =\"n_neighbors\", param_range = param_range_knn, cv = 5)"
   ]
  },
  {
   "cell_type": "code",
   "execution_count": 45,
   "metadata": {
    "executionInfo": {
     "elapsed": 13080,
     "status": "ok",
     "timestamp": 1619406856309,
     "user": {
      "displayName": "Tina Guo",
      "photoUrl": "",
      "userId": "10573035161651956848"
     },
     "user_tz": 300
    },
    "id": "_nwQfu3CRXRD"
   },
   "outputs": [],
   "source": [
    "train_scores_mean_knn = np.mean(train_scores_knn, axis = 1)\n",
    "test_scores_mean_knn = np.mean(test_scores_knn, axis = 1)\n",
    "train_scores_std_knn = np.std(train_scores_knn, axis = 1)\n",
    "test_scores_std_knn = np.std(test_scores_knn, axis = 1)\n",
    "knn_best = param_range_knn[np.argsort(test_scores_mean_knn)[-1]]\n",
    "dist = KNeighborsClassifier(n_neighbors = knn_best, weights = \"uniform\").fit(X_train, y_train)"
   ]
  },
  {
   "cell_type": "code",
   "execution_count": 46,
   "metadata": {
    "colab": {
     "base_uri": "https://localhost:8080/",
     "height": 299
    },
    "executionInfo": {
     "elapsed": 12331,
     "status": "ok",
     "timestamp": 1619406856614,
     "user": {
      "displayName": "Tina Guo",
      "photoUrl": "",
      "userId": "10573035161651956848"
     },
     "user_tz": 300
    },
    "id": "Koq38-t0Rg_7",
    "outputId": "6cd5ab48-25aa-41c5-a779-e3166e2d6f2b"
   },
   "outputs": [
    {
     "data": {
      "image/png": "[encoded data removed]",
      "text/plain": [
       "<Figure size 432x288 with 1 Axes>"
      ]
     },
     "metadata": {
      "needs_background": "light"
     },
     "output_type": "display_data"
    }
   ],
   "source": [
    "plt.title(\"Validation Curve - KNN\")\n",
    "plt.xlabel(\"K\")\n",
    "plt.ylabel(\"Score\")\n",
    "\n",
    "lw = 2\n",
    "plt.semilogx(param_range_knn, train_scores_mean_knn, label=\"Training Score\", color=\"darkorange\", lw=lw)\n",
    "plt.fill_between(param_range_knn, train_scores_mean_knn - train_scores_std_knn, train_scores_mean_knn + train_scores_std_knn, alpha=0.2,color=\"darkorange\", lw=lw)\n",
    "plt.semilogx(param_range_knn, test_scores_mean_knn, label=\"Cross-Validation score\", color=\"navy\", lw=lw)\n",
    "plt.fill_between(param_range_knn, test_scores_mean_knn - test_scores_std_knn, test_scores_mean_knn + test_scores_std_knn, alpha=0.2, color=\"navy\", lw=lw)\n",
    "plt.legend(loc=\"best\")\n",
    "plt.show()"
   ]
  },
  {
   "cell_type": "code",
   "execution_count": 47,
   "metadata": {
    "colab": {
     "base_uri": "https://localhost:8080/"
    },
    "executionInfo": {
     "elapsed": 10565,
     "status": "ok",
     "timestamp": 1619406856732,
     "user": {
      "displayName": "Tina Guo",
      "photoUrl": "",
      "userId": "10573035161651956848"
     },
     "user_tz": 300
    },
    "id": "-R7-UBuWRtf7",
    "outputId": "bfe17cde-4db7-4e49-c83c-0da3438bf393"
   },
   "outputs": [
    {
     "name": "stdout",
     "output_type": "stream",
     "text": [
      "The best parameter K :  2\n",
      "Training accuracy: 0.9931718061674009\n",
      "Test accuracy is: 0.9859154929577465\n"
     ]
    }
   ],
   "source": [
    "print(\"The best parameter K : \", knn_best)\n",
    "acc_train = dist.score(X_train, y_train)\n",
    "print('Training accuracy:', acc_train)\n",
    "print('Test accuracy is:', dist.score(X_test, y_test))"
   ]
  },
  {
   "cell_type": "code",
   "execution_count": 48,
   "metadata": {
    "colab": {
     "base_uri": "https://localhost:8080/",
     "height": 297
    },
    "executionInfo": {
     "elapsed": 9403,
     "status": "ok",
     "timestamp": 1619406856839,
     "user": {
      "displayName": "Tina Guo",
      "photoUrl": "",
      "userId": "10573035161651956848"
     },
     "user_tz": 300
    },
    "id": "OUpJcsEgRwuz",
    "outputId": "a0b0fd54-1b9a-46ea-fd00-63e4185a51a9"
   },
   "outputs": [
    {
     "name": "stdout",
     "output_type": "stream",
     "text": [
      "Confusion Matrix with KNN:\n"
     ]
    },
    {
     "data": {
      "image/png": "[encoded data removed]",
      "text/plain": [
       "<Figure size 432x288 with 2 Axes>"
      ]
     },
     "metadata": {
      "needs_background": "light"
     },
     "output_type": "display_data"
    }
   ],
   "source": [
    "CM_knn = plot_confusion_matrix(dist, X_test, y_test, display_labels= [\"No Profit\", \"Profit\"], cmap=plt.cm.Blues)\n",
    "print(\"Confusion Matrix with KNN:\")\n",
    "plt.show()"
   ]
  },
  {
   "cell_type": "markdown",
   "metadata": {
    "id": "C4K7u4VDSEWm"
   },
   "source": [
    "**Because of imbalance in the data, the model is bias and predicted over half of the Profit call options incorrectly. We will try SMOTE and NearMiss to see if it can help fix the bias in our KNN model.**"
   ]
  },
  {
   "cell_type": "markdown",
   "metadata": {
    "id": "DUerpKqWUboZ"
   },
   "source": [
    "# 1. Synthetic Minority Oversampling Technique (SMOTE)"
   ]
  },
  {
   "cell_type": "markdown",
   "metadata": {
    "id": "hffIOUJKUo5W"
   },
   "source": [
    "https://bmcbioinformatics.biomedcentral.com/articles/10.1186/1471-2105-14-106"
   ]
  },
  {
   "cell_type": "code",
   "execution_count": 47,
   "metadata": {},
   "outputs": [
    {
     "name": "stdout",
     "output_type": "stream",
     "text": [
      "Requirement already satisfied: imblearn in c:\\users\\saura\\python\\lib\\site-packages (0.0)\n",
      "Requirement already satisfied: imbalanced-learn in c:\\users\\saura\\python\\lib\\site-packages (from imblearn) (0.8.0)\n",
      "Requirement already satisfied: joblib>=0.11 in c:\\users\\saura\\python\\lib\\site-packages (from imbalanced-learn->imblearn) (0.14.1)\n",
      "Requirement already satisfied: scikit-learn>=0.24 in c:\\users\\saura\\python\\lib\\site-packages (from imbalanced-learn->imblearn) (0.24.2)\n",
      "Requirement already satisfied: numpy>=1.13.3 in c:\\users\\saura\\python\\lib\\site-packages (from imbalanced-learn->imblearn) (1.19.5)\n",
      "Requirement already satisfied: scipy>=0.19.1 in c:\\users\\saura\\python\\lib\\site-packages (from imbalanced-learn->imblearn) (1.4.1)\n",
      "Requirement already satisfied: threadpoolctl>=2.0.0 in c:\\users\\saura\\python\\lib\\site-packages (from scikit-learn>=0.24->imbalanced-learn->imblearn) (2.1.0)\n"
     ]
    },
    {
     "name": "stderr",
     "output_type": "stream",
     "text": [
      "WARNING: Value for scheme.headers does not match. Please report this to <https://github.com/pypa/pip/issues/9617>\n",
      "distutils: c:\\users\\saura\\python\\Include\\UNKNOWN\n",
      "sysconfig: c:\\users\\saura\\python\\Include\n",
      "WARNING: Additional context:\n",
      "user = False\n",
      "home = None\n",
      "root = None\n",
      "prefix = None\n",
      "WARNING: Ignoring invalid distribution -umpy (c:\\users\\saura\\python\\lib\\site-packages)\n",
      "WARNING: Ignoring invalid distribution -umpy (c:\\users\\saura\\python\\lib\\site-packages)\n",
      "WARNING: Ignoring invalid distribution -umpy (c:\\users\\saura\\python\\lib\\site-packages)\n",
      "WARNING: Value for scheme.headers does not match. Please report this to <https://github.com/pypa/pip/issues/9617>\n",
      "distutils: c:\\users\\saura\\python\\Include\\UNKNOWN\n",
      "sysconfig: c:\\users\\saura\\python\\Include\n",
      "WARNING: Additional context:\n",
      "user = False\n",
      "home = None\n",
      "root = None\n",
      "prefix = None\n",
      "WARNING: Ignoring invalid distribution -umpy (c:\\users\\saura\\python\\lib\\site-packages)\n",
      "WARNING: Ignoring invalid distribution -umpy (c:\\users\\saura\\python\\lib\\site-packages)\n",
      "WARNING: Ignoring invalid distribution -umpy (c:\\users\\saura\\python\\lib\\site-packages)\n",
      "WARNING: You are using pip version 21.1; however, version 21.1.1 is available.\n",
      "You should consider upgrading via the 'c:\\users\\saura\\python\\python.exe -m pip install --upgrade pip' command.\n"
     ]
    }
   ],
   "source": [
    "!pip install imblearn"
   ]
  },
  {
   "cell_type": "code",
   "execution_count": 15,
   "metadata": {},
   "outputs": [
    {
     "name": "stdout",
     "output_type": "stream",
     "text": [
      "Requirement already satisfied: delayed in c:\\users\\saura\\python\\lib\\site-packages (0.11.0b1)\n",
      "Requirement already satisfied: hiredis in c:\\users\\saura\\python\\lib\\site-packages (from delayed) (2.0.0)\n",
      "Requirement already satisfied: redis in c:\\users\\saura\\python\\lib\\site-packages (from delayed) (3.5.3)\n"
     ]
    },
    {
     "name": "stderr",
     "output_type": "stream",
     "text": [
      "WARNING: Value for scheme.headers does not match. Please report this to <https://github.com/pypa/pip/issues/9617>\n",
      "distutils: c:\\users\\saura\\python\\Include\\UNKNOWN\n",
      "sysconfig: c:\\users\\saura\\python\\Include\n",
      "WARNING: Additional context:\n",
      "user = False\n",
      "home = None\n",
      "root = None\n",
      "prefix = None\n",
      "WARNING: Ignoring invalid distribution -umpy (c:\\users\\saura\\python\\lib\\site-packages)\n",
      "WARNING: Ignoring invalid distribution -umpy (c:\\users\\saura\\python\\lib\\site-packages)\n",
      "WARNING: Ignoring invalid distribution -umpy (c:\\users\\saura\\python\\lib\\site-packages)\n",
      "WARNING: Value for scheme.headers does not match. Please report this to <https://github.com/pypa/pip/issues/9617>\n",
      "distutils: c:\\users\\saura\\python\\Include\\UNKNOWN\n",
      "sysconfig: c:\\users\\saura\\python\\Include\n",
      "WARNING: Additional context:\n",
      "user = False\n",
      "home = None\n",
      "root = None\n",
      "prefix = None\n",
      "WARNING: Ignoring invalid distribution -umpy (c:\\users\\saura\\python\\lib\\site-packages)\n",
      "WARNING: Ignoring invalid distribution -umpy (c:\\users\\saura\\python\\lib\\site-packages)\n",
      "WARNING: Ignoring invalid distribution -umpy (c:\\users\\saura\\python\\lib\\site-packages)\n",
      "WARNING: You are using pip version 21.1; however, version 21.1.1 is available.\n",
      "You should consider upgrading via the 'c:\\users\\saura\\python\\python.exe -m pip install --upgrade pip' command.\n"
     ]
    }
   ],
   "source": [
    "!pip install delayed"
   ]
  },
  {
   "cell_type": "code",
   "execution_count": 16,
   "metadata": {
    "colab": {
     "base_uri": "https://localhost:8080/"
    },
    "executionInfo": {
     "elapsed": 369,
     "status": "ok",
     "timestamp": 1619406860320,
     "user": {
      "displayName": "Tina Guo",
      "photoUrl": "",
      "userId": "10573035161651956848"
     },
     "user_tz": 300
    },
    "id": "x0o8G3rjTXVr",
    "outputId": "be524a5b-7919-4a7a-f98b-237cd8f9dd34"
   },
   "outputs": [
    {
     "name": "stdout",
     "output_type": "stream",
     "text": [
      "0.8.0\n"
     ]
    }
   ],
   "source": [
    "import imblearn\n",
    "print(imblearn.__version__)\n",
    "from imblearn.over_sampling import SMOTE\n",
    "from collections import Counter"
   ]
  },
  {
   "cell_type": "code",
   "execution_count": 17,
   "metadata": {
    "colab": {
     "base_uri": "https://localhost:8080/"
    },
    "executionInfo": {
     "elapsed": 453,
     "status": "ok",
     "timestamp": 1619406863335,
     "user": {
      "displayName": "Tina Guo",
      "photoUrl": "",
      "userId": "10573035161651956848"
     },
     "user_tz": 300
    },
    "id": "PihiL6ZuUCbM",
    "outputId": "143aa35c-57ba-4085-834a-4197a4346137"
   },
   "outputs": [
    {
     "data": {
      "text/plain": [
       "Counter({0: 4216, 1: 324})"
      ]
     },
     "execution_count": 17,
     "metadata": {},
     "output_type": "execute_result"
    }
   ],
   "source": [
    "Counter(y_train)"
   ]
  },
  {
   "cell_type": "code",
   "execution_count": 18,
   "metadata": {
    "colab": {
     "base_uri": "https://localhost:8080/"
    },
    "executionInfo": {
     "elapsed": 224,
     "status": "ok",
     "timestamp": 1619406864085,
     "user": {
      "displayName": "Tina Guo",
      "photoUrl": "",
      "userId": "10573035161651956848"
     },
     "user_tz": 300
    },
    "id": "VlreMuFPUICA",
    "outputId": "e033fa65-4194-40cc-e0e9-61990c5b81c9"
   },
   "outputs": [
    {
     "name": "stdout",
     "output_type": "stream",
     "text": [
      "Counter({0: 4216, 1: 4216})\n"
     ]
    }
   ],
   "source": [
    "oversample = SMOTE()\n",
    "X_train_smote, y_train_smote = oversample.fit_resample(X_train, y_train)\n",
    "counter_smote = Counter(y_train_smote)\n",
    "print(counter_smote)"
   ]
  },
  {
   "cell_type": "code",
   "execution_count": 19,
   "metadata": {},
   "outputs": [],
   "source": [
    "X_train_smote_s, y_train_smote_s = oversample.fit_resample(X_train_s, y_train_s)\n",
    "counter_smote_s = Counter(y_train_smote_s)"
   ]
  },
  {
   "cell_type": "markdown",
   "metadata": {},
   "source": [
    "# 1.1 KNN"
   ]
  },
  {
   "cell_type": "code",
   "execution_count": 54,
   "metadata": {
    "executionInfo": {
     "elapsed": 29153,
     "status": "ok",
     "timestamp": 1619406894523,
     "user": {
      "displayName": "Tina Guo",
      "photoUrl": "",
      "userId": "10573035161651956848"
     },
     "user_tz": 300
    },
    "id": "ksRAnx54UvDe"
   },
   "outputs": [],
   "source": [
    "param_range_knn_1 = np.arange(2,25)\n",
    "train_scores_knn_1, test_scores_knn_1 = validation_curve(KNeighborsClassifier(weights = \"uniform\"), X_train_smote, y_train_smote, param_name =\"n_neighbors\", param_range = param_range_knn_1, cv = 5)\n",
    "train_scores_mean_knn_1 = np.mean(train_scores_knn_1, axis = 1)\n",
    "test_scores_mean_knn_1 = np.mean(test_scores_knn_1, axis = 1)\n",
    "train_scores_std_knn_1 = np.std(train_scores_knn_1, axis = 1)\n",
    "test_scores_std_knn_1 = np.std(test_scores_knn_1, axis = 1)\n",
    "knn_best_1 = param_range_knn_1[np.argsort(test_scores_mean_knn_1)[-1]]\n",
    "dist_1 = KNeighborsClassifier(n_neighbors = knn_best_1, weights = \"uniform\").fit(X_train_smote, y_train_smote)"
   ]
  },
  {
   "cell_type": "code",
   "execution_count": 55,
   "metadata": {
    "colab": {
     "base_uri": "https://localhost:8080/",
     "height": 299
    },
    "executionInfo": {
     "elapsed": 530,
     "status": "ok",
     "timestamp": 1619407011693,
     "user": {
      "displayName": "Tina Guo",
      "photoUrl": "",
      "userId": "10573035161651956848"
     },
     "user_tz": 300
    },
    "id": "NbFwdbGhVTP4",
    "outputId": "f64965e6-2180-4726-b406-b0c71e530bd4"
   },
   "outputs": [
    {
     "data": {
      "image/png": "[encoded data removed]",
      "text/plain": [
       "<Figure size 432x288 with 1 Axes>"
      ]
     },
     "metadata": {
      "needs_background": "light"
     },
     "output_type": "display_data"
    }
   ],
   "source": [
    "plt.title(\"Validation Curve - KNN with SMOTE\")\n",
    "plt.xlabel(\"K\")\n",
    "plt.ylabel(\"Score\")\n",
    "\n",
    "lw = 2\n",
    "plt.semilogx(param_range_knn_1, train_scores_mean_knn_1, label=\"Training Score\", color=\"darkorange\", lw=lw)\n",
    "plt.fill_between(param_range_knn_1, train_scores_mean_knn_1 - train_scores_std_knn_1, train_scores_mean_knn_1 + train_scores_std_knn_1, alpha=0.2,color=\"darkorange\", lw=lw)\n",
    "plt.semilogx(param_range_knn_1, test_scores_mean_knn_1, label=\"Cross-Validation score\", color=\"navy\", lw=lw)\n",
    "plt.fill_between(param_range_knn_1, test_scores_mean_knn_1 - test_scores_std_knn_1, test_scores_mean_knn_1 + test_scores_std_knn_1, alpha=0.2, color=\"navy\", lw=lw)\n",
    "plt.legend(loc=\"best\")\n",
    "plt.show()"
   ]
  },
  {
   "cell_type": "code",
   "execution_count": 56,
   "metadata": {
    "colab": {
     "base_uri": "https://localhost:8080/"
    },
    "executionInfo": {
     "elapsed": 25977,
     "status": "ok",
     "timestamp": 1619406894914,
     "user": {
      "displayName": "Tina Guo",
      "photoUrl": "",
      "userId": "10573035161651956848"
     },
     "user_tz": 300
    },
    "id": "HtEpjnB1VhxB",
    "outputId": "4ecf2464-ab3e-4560-b5ad-dd8c21b716d5"
   },
   "outputs": [
    {
     "name": "stdout",
     "output_type": "stream",
     "text": [
      "The best parameter K :  2\n",
      "Training accuracy: 0.9839895635673624\n",
      "Test accuracy is: 0.983274647887324\n"
     ]
    }
   ],
   "source": [
    "print(\"The best parameter K : \", knn_best_1)\n",
    "acc_train_1 = dist_1.score(X_train_smote, y_train_smote)\n",
    "print('Training accuracy:', acc_train_1)\n",
    "print('Test accuracy is:', dist_1.score(X_test, y_test))"
   ]
  },
  {
   "cell_type": "code",
   "execution_count": 57,
   "metadata": {
    "colab": {
     "base_uri": "https://localhost:8080/",
     "height": 297
    },
    "executionInfo": {
     "elapsed": 24645,
     "status": "ok",
     "timestamp": 1619406895174,
     "user": {
      "displayName": "Tina Guo",
      "photoUrl": "",
      "userId": "10573035161651956848"
     },
     "user_tz": 300
    },
    "id": "AxYu5C_QVa7P",
    "outputId": "e7f917c7-9a06-4280-c297-d19eecfd6c1f"
   },
   "outputs": [
    {
     "name": "stdout",
     "output_type": "stream",
     "text": [
      "Confusion Matrix with KNN:\n"
     ]
    },
    {
     "data": {
      "image/png": "[encoded data removed]",
      "text/plain": [
       "<Figure size 432x288 with 2 Axes>"
      ]
     },
     "metadata": {
      "needs_background": "light"
     },
     "output_type": "display_data"
    }
   ],
   "source": [
    "CM_knn = plot_confusion_matrix(dist_1, X_test, y_test, display_labels= [\"No Profit\", \"Profit\"], cmap=plt.cm.Blues,normalize='true')\n",
    "print(\"Confusion Matrix with KNN:\")\n",
    "plt.show()"
   ]
  },
  {
   "cell_type": "code",
   "execution_count": 58,
   "metadata": {},
   "outputs": [
    {
     "name": "stdout",
     "output_type": "stream",
     "text": [
      "              precision    recall  f1-score   support\n",
      "\n",
      "           0       0.99      0.99      0.99      1063\n",
      "           1       0.85      0.90      0.87        73\n",
      "\n",
      "    accuracy                           0.98      1136\n",
      "   macro avg       0.92      0.95      0.93      1136\n",
      "weighted avg       0.98      0.98      0.98      1136\n",
      "\n"
     ]
    }
   ],
   "source": [
    "y_pred = dist_1.predict(X_test)\n",
    "print(classification_report(y_test, y_pred))"
   ]
  },
  {
   "cell_type": "markdown",
   "metadata": {
    "id": "Vy4ELRyBB75D"
   },
   "source": [
    "# 1.2 SVM RBF Kernel"
   ]
  },
  {
   "cell_type": "code",
   "execution_count": 59,
   "metadata": {
    "id": "9ayOrWvwSb-F"
   },
   "outputs": [],
   "source": [
    "def svm_val_curv(param_range, model, xt,yt):\n",
    "  # select from the range\n",
    "  print(\"param range:\", param_range)\n",
    "  #test for values of C and set cross validation to 5\n",
    "  train_scores, test_scores = validation_curve(\n",
    "    model, xt,yt, param_name=\"C\", param_range=param_range,\n",
    "      scoring=\"accuracy\", n_jobs=1, cv = 5)\n",
    "  train_scores_mean = np.mean(train_scores, axis=1)\n",
    "  train_scores_std = np.std(train_scores, axis=1)\n",
    "  test_scores_mean = np.mean(test_scores, axis=1)\n",
    "  test_scores_std = np.std(test_scores, axis=1)\n",
    "\n",
    "  print(\"test scores mean:\", test_scores_mean)\n",
    "\n",
    "  # Plot CV error as a function of C\n",
    "  plt.title(\"Validation Curve with SVM\")\n",
    "  plt.xlabel(\"C parameter\")\n",
    "  plt.ylabel(\"Score\")\n",
    "  lw = 2\n",
    "  plt.semilogx(param_range, train_scores_mean, label=\"Training score\",\n",
    "              color=\"darkorange\", lw=lw)\n",
    "  plt.fill_between(param_range, train_scores_mean - train_scores_std,\n",
    "                  train_scores_mean + train_scores_std, alpha=0.2,\n",
    "                  color=\"darkorange\", lw=lw)\n",
    "  plt.semilogx(param_range, test_scores_mean, label=\"Cross-validation score\",\n",
    "              color=\"navy\", lw=lw)\n",
    "  plt.fill_between(param_range, test_scores_mean - test_scores_std,\n",
    "                  test_scores_mean + test_scores_std, alpha=0.2,\n",
    "                  color=\"navy\", lw=lw)\n",
    "  plt.legend(loc=\"best\")\n",
    "  plt.show()\n",
    "  return test_scores_mean"
   ]
  },
  {
   "cell_type": "code",
   "execution_count": 60,
   "metadata": {
    "id": "Dvu_x02Gds1y"
   },
   "outputs": [],
   "source": [
    "svc_model_rbf_smote = SVC(kernel='rbf', probability=True)"
   ]
  },
  {
   "cell_type": "code",
   "execution_count": 61,
   "metadata": {},
   "outputs": [],
   "source": [
    "param_range = np.logspace(-5,5, 6)"
   ]
  },
  {
   "cell_type": "code",
   "execution_count": 62,
   "metadata": {
    "id": "eaqF1xCmZA3F"
   },
   "outputs": [
    {
     "name": "stdout",
     "output_type": "stream",
     "text": [
      "param range: [1.e-05 1.e-03 1.e-01 1.e+01 1.e+03 1.e+05]\n",
      "test scores mean: [0.67817326 0.80597838 0.90085449 0.91461135 0.91496715 0.91472997]\n"
     ]
    },
    {
     "data": {
      "image/png": "[encoded data removed]",
      "text/plain": [
       "<Figure size 432x288 with 1 Axes>"
      ]
     },
     "metadata": {
      "needs_background": "light"
     },
     "output_type": "display_data"
    }
   ],
   "source": [
    "test_scores_mean = svm_val_curv(param_range, svc_model_rbf_smote,X_train_smote, y_train_smote)"
   ]
  },
  {
   "cell_type": "code",
   "execution_count": 63,
   "metadata": {
    "id": "k5At9uNdAqRU"
   },
   "outputs": [
    {
     "name": "stdout",
     "output_type": "stream",
     "text": [
      "The best hyperparameter:  1000.0\n",
      "Training accuracy: 0.9149667931688804\n",
      "Test accuracy: 0.9471830985915493\n"
     ]
    }
   ],
   "source": [
    "C_best = param_range[np.argsort(test_scores_mean)[-1]]\n",
    "print(\"The best hyperparameter: \", C_best)\n",
    "\n",
    "dist = SVC(kernel='rbf',C = C_best, probability = True)\n",
    "dist.fit(X_train_smote, y_train_smote)\n",
    "acc_train = dist.score(X_train_smote, y_train_smote)\n",
    "acc_test = dist.score(X_test, y_test)\n",
    "\n",
    "print('Training accuracy:', acc_train)\n",
    "print('Test accuracy:', acc_test)"
   ]
  },
  {
   "cell_type": "code",
   "execution_count": 64,
   "metadata": {
    "id": "UI6RSPPPYX5Z"
   },
   "outputs": [
    {
     "name": "stdout",
     "output_type": "stream",
     "text": [
      "Confusion Matrix with RBF SVM SMOTE:\n"
     ]
    },
    {
     "data": {
      "image/png": "[encoded data removed]",
      "text/plain": [
       "<Figure size 432x288 with 2 Axes>"
      ]
     },
     "metadata": {
      "needs_background": "light"
     },
     "output_type": "display_data"
    }
   ],
   "source": [
    "CM_svm = plot_confusion_matrix(dist, X_test, y_test, display_labels= [\"No Profit\", \"Profit\"], cmap=plt.cm.Blues)\n",
    "print(\"Confusion Matrix with RBF SVM SMOTE:\")\n",
    "plt.show()"
   ]
  },
  {
   "cell_type": "code",
   "execution_count": 65,
   "metadata": {},
   "outputs": [
    {
     "name": "stdout",
     "output_type": "stream",
     "text": [
      "              precision    recall  f1-score   support\n",
      "\n",
      "           0       0.99      0.96      0.97      1063\n",
      "           1       0.56      0.81      0.66        73\n",
      "\n",
      "    accuracy                           0.95      1136\n",
      "   macro avg       0.77      0.88      0.82      1136\n",
      "weighted avg       0.96      0.95      0.95      1136\n",
      "\n"
     ]
    }
   ],
   "source": [
    "y_pred = dist.predict(X_test)\n",
    "print(classification_report(y_test, y_pred))"
   ]
  },
  {
   "cell_type": "markdown",
   "metadata": {},
   "source": [
    "# 1.3 Neural Networks"
   ]
  },
  {
   "cell_type": "code",
   "execution_count": 66,
   "metadata": {},
   "outputs": [],
   "source": [
    "activation_funcs = ['logistic', 'relu'] \n",
    "param_grid = dict(hidden_layer_sizes = [(20,10),(50,25),(40,20)], activation = activation_funcs, batch_size = [32,64], alpha = [0.0001,0.001,0.01])\n",
    "grid = GridSearchCV(MLPClassifier(), param_grid = param_grid)"
   ]
  },
  {
   "cell_type": "code",
   "execution_count": 67,
   "metadata": {},
   "outputs": [
    {
     "data": {
      "text/plain": [
       "GridSearchCV(estimator=MLPClassifier(),\n",
       "             param_grid={'activation': ['logistic', 'relu'],\n",
       "                         'alpha': [0.0001, 0.001, 0.01], 'batch_size': [32, 64],\n",
       "                         'hidden_layer_sizes': [(20, 10), (50, 25), (40, 20)]})"
      ]
     },
     "execution_count": 67,
     "metadata": {},
     "output_type": "execute_result"
    }
   ],
   "source": [
    "grid.fit(X_train_smote, y_train_smote)"
   ]
  },
  {
   "cell_type": "code",
   "execution_count": 68,
   "metadata": {},
   "outputs": [
    {
     "data": {
      "text/plain": [
       "{'activation': 'relu',\n",
       " 'alpha': 0.0001,\n",
       " 'batch_size': 32,\n",
       " 'hidden_layer_sizes': (40, 20)}"
      ]
     },
     "execution_count": 68,
     "metadata": {},
     "output_type": "execute_result"
    }
   ],
   "source": [
    "grid.best_params_"
   ]
  },
  {
   "cell_type": "code",
   "execution_count": 20,
   "metadata": {},
   "outputs": [],
   "source": [
    "dist_nn = MLPClassifier(hidden_layer_sizes = (40,20), activation = 'relu', alpha = 0.0001, batch_size = 32, random_state = 123).fit(X_train_smote, y_train_smote)"
   ]
  },
  {
   "cell_type": "code",
   "execution_count": 21,
   "metadata": {},
   "outputs": [
    {
     "name": "stdout",
     "output_type": "stream",
     "text": [
      "Training accuracy: 0.9173387096774194\n",
      "Test accuracy is: 0.9454225352112676\n"
     ]
    }
   ],
   "source": [
    "acc_train = dist_nn.score(X_train_smote, y_train_smote)\n",
    "print('Training accuracy:', acc_train)\n",
    "print('Test accuracy is:', dist_nn.score(X_test, y_test))"
   ]
  },
  {
   "cell_type": "code",
   "execution_count": 22,
   "metadata": {},
   "outputs": [
    {
     "data": {
      "text/plain": [
       "array([0, 1])"
      ]
     },
     "execution_count": 22,
     "metadata": {},
     "output_type": "execute_result"
    }
   ],
   "source": [
    "y_pred = dist_nn.predict(X_test)\n",
    "np.unique(y_pred)"
   ]
  },
  {
   "cell_type": "code",
   "execution_count": 23,
   "metadata": {},
   "outputs": [
    {
     "name": "stdout",
     "output_type": "stream",
     "text": [
      "              precision    recall  f1-score   support\n",
      "\n",
      "           0       0.99      0.95      0.97      1063\n",
      "           1       0.55      0.81      0.66        73\n",
      "\n",
      "    accuracy                           0.95      1136\n",
      "   macro avg       0.77      0.88      0.81      1136\n",
      "weighted avg       0.96      0.95      0.95      1136\n",
      "\n"
     ]
    }
   ],
   "source": [
    "print(classification_report(y_test, y_pred))"
   ]
  },
  {
   "cell_type": "code",
   "execution_count": 26,
   "metadata": {},
   "outputs": [
    {
     "name": "stdout",
     "output_type": "stream",
     "text": [
      "Confusion Matrix with Neural Network:\n"
     ]
    },
    {
     "data": {
      "image/png": "[encoded data removed]",
      "text/plain": [
       "<Figure size 432x288 with 2 Axes>"
      ]
     },
     "metadata": {
      "needs_background": "light"
     },
     "output_type": "display_data"
    }
   ],
   "source": [
    "CM_nn = plot_confusion_matrix(dist_nn, X_test, y_test, display_labels= [\"No Profit\", \"Profit\"], cmap=plt.cm.Blues,normalize = 'true')\n",
    "print(\"Confusion Matrix with Neural Network:\")\n",
    "plt.show()"
   ]
  },
  {
   "cell_type": "code",
   "execution_count": 27,
   "metadata": {},
   "outputs": [
    {
     "data": {
      "text/plain": [
       "Text(0.5, 1.0, '2-class Precision-Recall curve:')"
      ]
     },
     "execution_count": 27,
     "metadata": {},
     "output_type": "execute_result"
    },
    {
     "data": {
      "image/png": "[encoded data removed]",
      "text/plain": [
       "<Figure size 432x288 with 1 Axes>"
      ]
     },
     "metadata": {
      "needs_background": "light"
     },
     "output_type": "display_data"
    }
   ],
   "source": [
    "disp = plot_precision_recall_curve(dist_nn, X_test, y_test)\n",
    "disp.ax_.set_title('2-class Precision-Recall curve:')"
   ]
  },
  {
   "cell_type": "code",
   "execution_count": 28,
   "metadata": {},
   "outputs": [
    {
     "data": {
      "text/plain": [
       "0.45797750914654484"
      ]
     },
     "execution_count": 28,
     "metadata": {},
     "output_type": "execute_result"
    }
   ],
   "source": [
    "average_precision_score(y_test, y_pred)"
   ]
  },
  {
   "cell_type": "markdown",
   "metadata": {},
   "source": [
    "# 1.4 Logistic Regression"
   ]
  },
  {
   "cell_type": "code",
   "execution_count": 76,
   "metadata": {},
   "outputs": [],
   "source": [
    "from sklearn.linear_model import LogisticRegression"
   ]
  },
  {
   "cell_type": "code",
   "execution_count": 77,
   "metadata": {},
   "outputs": [],
   "source": [
    "c_range = np.logspace(-4, 6, 6)"
   ]
  },
  {
   "cell_type": "code",
   "execution_count": 78,
   "metadata": {},
   "outputs": [],
   "source": [
    "train_scores_l2, valid_scores_l2 = validation_curve(LogisticRegression(solver='lbfgs', max_iter = 1000), X_train_smote_s, y_train_smote_s, param_name = \"C\", param_range = c_range, cv=5)"
   ]
  },
  {
   "cell_type": "code",
   "execution_count": 79,
   "metadata": {},
   "outputs": [],
   "source": [
    "train_scores_mean_l2 = np.mean(train_scores_l2, axis = 1)\n",
    "test_scores_mean_l2 = np.mean(valid_scores_l2, axis = 1)\n",
    "train_scores_std_l2 = np.std(train_scores_l2, axis = 1)\n",
    "test_scores_std_l2 = np.std(valid_scores_l2, axis = 1)"
   ]
  },
  {
   "cell_type": "code",
   "execution_count": 80,
   "metadata": {},
   "outputs": [],
   "source": [
    "c_best = c_range[np.argsort(test_scores_mean_l2)[-1]]\n",
    "LR_l2 = LogisticRegression(solver='lbfgs',C = c_best).fit(X_train_smote, y_train_smote)"
   ]
  },
  {
   "cell_type": "code",
   "execution_count": 81,
   "metadata": {},
   "outputs": [
    {
     "data": {
      "image/png": "[encoded data removed]",
      "text/plain": [
       "<Figure size 432x288 with 1 Axes>"
      ]
     },
     "metadata": {
      "needs_background": "light"
     },
     "output_type": "display_data"
    }
   ],
   "source": [
    "plt.title(\"Validation Curve - Logitic regression_l2 reg\")\n",
    "plt.xlabel(\"C\")\n",
    "plt.ylabel(\"Score\")\n",
    "\n",
    "lw = 2\n",
    "plt.semilogx(c_range, train_scores_mean_l2, label=\"Training Score\", color=\"darkorange\", lw=lw)\n",
    "plt.fill_between(c_range, train_scores_mean_l2 - train_scores_std_l2, train_scores_mean_l2 + train_scores_std_l2, alpha=0.2,color=\"darkorange\", lw=lw)\n",
    "plt.semilogx(c_range, test_scores_mean_l2, label=\"Cross-Validation score\", color=\"navy\", lw=lw)\n",
    "plt.fill_between(c_range, test_scores_mean_l2 - test_scores_std_l2, test_scores_mean_l2 + test_scores_std_l2, alpha=0.2, color=\"navy\", lw=lw)\n",
    "plt.legend(loc=\"best\")\n",
    "plt.show()"
   ]
  },
  {
   "cell_type": "code",
   "execution_count": 82,
   "metadata": {},
   "outputs": [
    {
     "data": {
      "text/plain": [
       "array([0.8219865 , 0.83942148, 0.84048923, 0.84001488, 0.84001488,\n",
       "       0.84001488])"
      ]
     },
     "execution_count": 82,
     "metadata": {},
     "output_type": "execute_result"
    }
   ],
   "source": [
    "test_scores_mean_l2"
   ]
  },
  {
   "cell_type": "code",
   "execution_count": 83,
   "metadata": {},
   "outputs": [
    {
     "data": {
      "text/plain": [
       "<sklearn.metrics._plot.confusion_matrix.ConfusionMatrixDisplay at 0x1850ebabdc0>"
      ]
     },
     "execution_count": 83,
     "metadata": {},
     "output_type": "execute_result"
    },
    {
     "data": {
      "image/png": "[encoded data removed]",
      "text/plain": [
       "<Figure size 432x288 with 2 Axes>"
      ]
     },
     "metadata": {
      "needs_background": "light"
     },
     "output_type": "display_data"
    }
   ],
   "source": [
    "plot_confusion_matrix(LR_l2, X_test, y_test, display_labels= [\"No Profit\", \"Profit\"], cmap=plt.cm.Blues, normalize = 'true')"
   ]
  },
  {
   "cell_type": "code",
   "execution_count": 84,
   "metadata": {},
   "outputs": [],
   "source": [
    "y_pred = LR_l2.predict(X_test_s)"
   ]
  },
  {
   "cell_type": "code",
   "execution_count": 85,
   "metadata": {},
   "outputs": [
    {
     "name": "stdout",
     "output_type": "stream",
     "text": [
      "              precision    recall  f1-score   support\n",
      "\n",
      "           0       0.97      0.60      0.74      1063\n",
      "           1       0.12      0.77      0.20        73\n",
      "\n",
      "    accuracy                           0.61      1136\n",
      "   macro avg       0.55      0.68      0.47      1136\n",
      "weighted avg       0.92      0.61      0.71      1136\n",
      "\n"
     ]
    }
   ],
   "source": [
    "print(classification_report(y_test, y_pred))"
   ]
  },
  {
   "cell_type": "markdown",
   "metadata": {},
   "source": [
    "# 1.5 Decision Trees"
   ]
  },
  {
   "cell_type": "code",
   "execution_count": 86,
   "metadata": {},
   "outputs": [],
   "source": [
    "from sklearn.tree import DecisionTreeClassifier\n",
    "from sklearn import tree"
   ]
  },
  {
   "cell_type": "code",
   "execution_count": 39,
   "metadata": {},
   "outputs": [],
   "source": [
    "max_depth = np.arange(10,50,2)"
   ]
  },
  {
   "cell_type": "code",
   "execution_count": 40,
   "metadata": {},
   "outputs": [],
   "source": [
    "train_scores_dc, valid_scores_dc= validation_curve(DecisionTreeClassifier(), X_train_smote, y_train_smote, param_name = \"max_depth\", param_range = max_depth, cv=5)"
   ]
  },
  {
   "cell_type": "code",
   "execution_count": 41,
   "metadata": {},
   "outputs": [],
   "source": [
    "train_scores_mean_dc = np.mean(train_scores_dc, axis = 1)\n",
    "test_scores_mean_dc = np.mean(valid_scores_dc, axis = 1)\n",
    "train_scores_std_dc = np.std(train_scores_dc, axis = 1)\n",
    "test_scores_std_dc = np.std(valid_scores_dc, axis = 1)"
   ]
  },
  {
   "cell_type": "code",
   "execution_count": 42,
   "metadata": {},
   "outputs": [
    {
     "data": {
      "text/plain": [
       "array([0.98766634, 0.98920824, 0.98908976, 0.99027558, 0.99027551,\n",
       "       0.98968267, 0.9893268 , 0.98991992, 0.98968281, 0.99039413,\n",
       "       0.98932694, 0.98920838, 0.99051283, 0.9895639 , 0.98873382,\n",
       "       0.98908969, 0.9890899 , 0.9896826 , 0.98932694, 0.98980136])"
      ]
     },
     "execution_count": 42,
     "metadata": {},
     "output_type": "execute_result"
    }
   ],
   "source": [
    "test_scores_mean_dc"
   ]
  },
  {
   "cell_type": "code",
   "execution_count": 43,
   "metadata": {},
   "outputs": [],
   "source": [
    "depth_best = max_depth[np.argsort(test_scores_mean_dc)[-1]]\n",
    "DC_m1 = DecisionTreeClassifier(max_depth = depth_best, random_state=0).fit(X_train_smote, y_train_smote)"
   ]
  },
  {
   "cell_type": "code",
   "execution_count": 44,
   "metadata": {},
   "outputs": [
    {
     "name": "stdout",
     "output_type": "stream",
     "text": [
      "The best Depth of the tree is:  34\n"
     ]
    }
   ],
   "source": [
    "print(\"The best Depth of the tree is: \", depth_best)"
   ]
  },
  {
   "cell_type": "code",
   "execution_count": 45,
   "metadata": {},
   "outputs": [
    {
     "data": {
      "text/plain": [
       "<sklearn.metrics._plot.confusion_matrix.ConfusionMatrixDisplay at 0x2bef9b34dc8>"
      ]
     },
     "execution_count": 45,
     "metadata": {},
     "output_type": "execute_result"
    },
    {
     "data": {
      "image/png": "[encoded data removed]",
      "text/plain": [
       "<Figure size 432x288 with 2 Axes>"
      ]
     },
     "metadata": {
      "needs_background": "light"
     },
     "output_type": "display_data"
    }
   ],
   "source": [
    "plot_confusion_matrix(DC_m1, X_test, y_test, display_labels= [\"No Profit\", \"Profit\"], cmap=plt.cm.Blues, normalize='true')"
   ]
  },
  {
   "cell_type": "code",
   "execution_count": 46,
   "metadata": {},
   "outputs": [
    {
     "name": "stdout",
     "output_type": "stream",
     "text": [
      "              precision    recall  f1-score   support\n",
      "\n",
      "           0       0.99      0.99      0.99      1063\n",
      "           1       0.85      0.90      0.87        73\n",
      "\n",
      "    accuracy                           0.98      1136\n",
      "   macro avg       0.92      0.95      0.93      1136\n",
      "weighted avg       0.98      0.98      0.98      1136\n",
      "\n"
     ]
    }
   ],
   "source": [
    "y_pred = DC_m1.predict(X_test)\n",
    "print(classification_report(y_test, y_pred))"
   ]
  },
  {
   "cell_type": "markdown",
   "metadata": {},
   "source": [
    "# 1.6 Random forest grid CV"
   ]
  },
  {
   "cell_type": "code",
   "execution_count": 94,
   "metadata": {},
   "outputs": [],
   "source": [
    "from sklearn.ensemble import RandomForestClassifier as RFC\n",
    "rfc=RFC(random_state=0)"
   ]
  },
  {
   "cell_type": "code",
   "execution_count": 95,
   "metadata": {},
   "outputs": [],
   "source": [
    "param_grid = { \n",
    "    'n_estimators': np.arange(10,200,20),\n",
    "    'max_depth' : np.arange(10,55,5),\n",
    "}"
   ]
  },
  {
   "cell_type": "code",
   "execution_count": 96,
   "metadata": {},
   "outputs": [
    {
     "data": {
      "text/plain": [
       "GridSearchCV(cv=5, estimator=RandomForestClassifier(random_state=0),\n",
       "             param_grid={'max_depth': array([10, 15, 20, 25, 30, 35, 40, 45, 50]),\n",
       "                         'n_estimators': array([ 10,  30,  50,  70,  90, 110, 130, 150, 170, 190])})"
      ]
     },
     "execution_count": 96,
     "metadata": {},
     "output_type": "execute_result"
    }
   ],
   "source": [
    "CV_rfc = GridSearchCV(estimator=rfc, param_grid=param_grid, cv= 5)\n",
    "CV_rfc.fit(X_train_smote, y_train_smote)"
   ]
  },
  {
   "cell_type": "code",
   "execution_count": 97,
   "metadata": {},
   "outputs": [
    {
     "data": {
      "text/plain": [
       "{'max_depth': 15, 'n_estimators': 70}"
      ]
     },
     "execution_count": 97,
     "metadata": {},
     "output_type": "execute_result"
    }
   ],
   "source": [
    "CV_rfc.best_params_"
   ]
  },
  {
   "cell_type": "code",
   "execution_count": 98,
   "metadata": {},
   "outputs": [],
   "source": [
    "rfc1=RFC(random_state=0, n_estimators= 50, max_depth=25, criterion='gini')"
   ]
  },
  {
   "cell_type": "code",
   "execution_count": 99,
   "metadata": {},
   "outputs": [
    {
     "data": {
      "text/plain": [
       "RandomForestClassifier(max_depth=25, n_estimators=50, random_state=0)"
      ]
     },
     "execution_count": 99,
     "metadata": {},
     "output_type": "execute_result"
    }
   ],
   "source": [
    "rfc1.fit(X_train_smote, y_train_smote)"
   ]
  },
  {
   "cell_type": "code",
   "execution_count": 100,
   "metadata": {},
   "outputs": [],
   "source": [
    "y_pred_rfc1 = rfc1.predict(X_test)"
   ]
  },
  {
   "cell_type": "code",
   "execution_count": 101,
   "metadata": {},
   "outputs": [
    {
     "name": "stdout",
     "output_type": "stream",
     "text": [
      "              precision    recall  f1-score   support\n",
      "\n",
      "           0       0.99      1.00      1.00      1063\n",
      "           1       0.97      0.90      0.94        73\n",
      "\n",
      "    accuracy                           0.99      1136\n",
      "   macro avg       0.98      0.95      0.97      1136\n",
      "weighted avg       0.99      0.99      0.99      1136\n",
      "\n"
     ]
    }
   ],
   "source": [
    "print(classification_report(y_test, y_pred_rfc1))"
   ]
  },
  {
   "cell_type": "code",
   "execution_count": 102,
   "metadata": {},
   "outputs": [
    {
     "data": {
      "text/plain": [
       "<sklearn.metrics._plot.confusion_matrix.ConfusionMatrixDisplay at 0x1857fe8f250>"
      ]
     },
     "execution_count": 102,
     "metadata": {},
     "output_type": "execute_result"
    },
    {
     "data": {
      "image/png": "[encoded data removed]",
      "text/plain": [
       "<Figure size 432x288 with 2 Axes>"
      ]
     },
     "metadata": {
      "needs_background": "light"
     },
     "output_type": "display_data"
    }
   ],
   "source": [
    "plot_confusion_matrix(rfc1, X_test, y_test, display_labels= [\"No Profit\", \"Profit\"], cmap=plt.cm.Blues, normalize='true')"
   ]
  },
  {
   "cell_type": "code",
   "execution_count": null,
   "metadata": {},
   "outputs": [],
   "source": []
  }
 ],
 "metadata": {
  "accelerator": "GPU",
  "colab": {
   "collapsed_sections": [],
   "name": "ETF_models.ipynb",
   "provenance": [],
   "toc_visible": true
  },
  "kernelspec": {
   "display_name": "Python 3",
   "language": "python",
   "name": "python3"
  },
  "language_info": {
   "codemirror_mode": {
    "name": "ipython",
    "version": 3
   },
   "file_extension": ".py",
   "mimetype": "text/x-python",
   "name": "python",
   "nbconvert_exporter": "python",
   "pygments_lexer": "ipython3",
   "version": "3.7.6"
  }
 },
 "nbformat": 4,
 "nbformat_minor": 1
}
