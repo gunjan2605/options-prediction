{
 "cells": [
  {
   "cell_type": "code",
   "execution_count": 110,
   "metadata": {
    "colab": {
     "base_uri": "https://localhost:8080/"
    },
    "executionInfo": {
     "elapsed": 25070,
     "status": "ok",
     "timestamp": 1619406576333,
     "user": {
      "displayName": "Tina Guo",
      "photoUrl": "",
      "userId": "10573035161651956848"
     },
     "user_tz": 300
    },
    "id": "ZmVgNqM9YLsa",
    "outputId": "03505b4b-8f66-442e-ef9b-491757ad9677"
   },
   "outputs": [],
   "source": [
    "#from google.colab import drive\n",
    "#drive.mount('/content/drive')"
   ]
  },
  {
   "cell_type": "code",
   "execution_count": 111,
   "metadata": {
    "executionInfo": {
     "elapsed": 2282,
     "status": "ok",
     "timestamp": 1619406577075,
     "user": {
      "displayName": "Tina Guo",
      "photoUrl": "",
      "userId": "10573035161651956848"
     },
     "user_tz": 300
    },
    "id": "0hM60U84uJ9z"
   },
   "outputs": [],
   "source": [
    "import pandas as pd\n",
    "import matplotlib.pyplot as plt\n",
    "from datetime import datetime as dt\n",
    "import numpy as np\n",
    "\n",
    "%matplotlib inline\n",
    "\n",
    "from sklearn.model_selection import train_test_split\n",
    "from sklearn.tree import DecisionTreeClassifier\n",
    "from sklearn import tree\n",
    "from sklearn.metrics import plot_confusion_matrix\n",
    "from sklearn.neighbors import KNeighborsClassifier\n",
    "\n",
    "from sklearn.model_selection import validation_curve\n",
    "from sklearn.neural_network import MLPClassifier\n",
    "from sklearn.svm import SVC\n",
    "\n",
    "from sklearn.metrics import classification_report"
   ]
  },
  {
   "cell_type": "code",
   "execution_count": 112,
   "metadata": {},
   "outputs": [],
   "source": [
    "from sklearn.model_selection import GridSearchCV"
   ]
  },
  {
   "cell_type": "code",
   "execution_count": 113,
   "metadata": {},
   "outputs": [],
   "source": [
    "from sklearn.preprocessing import StandardScaler\n",
    "scalar = StandardScaler()"
   ]
  },
  {
   "cell_type": "markdown",
   "metadata": {
    "id": "5-uh_evTcXNf"
   },
   "source": [
    "# Read Tech Data"
   ]
  },
  {
   "cell_type": "code",
   "execution_count": 114,
   "metadata": {
    "colab": {
     "base_uri": "https://localhost:8080/",
     "height": 240
    },
    "executionInfo": {
     "elapsed": 433,
     "status": "ok",
     "timestamp": 1619409435913,
     "user": {
      "displayName": "Tina Guo",
      "photoUrl": "",
      "userId": "10573035161651956848"
     },
     "user_tz": 300
    },
    "id": "oJfkpAK-nkEa",
    "outputId": "198f5428-40b6-4d98-83b1-a0f065191117"
   },
   "outputs": [
    {
     "data": {
      "text/html": [
       "<div>\n",
       "<style scoped>\n",
       "    .dataframe tbody tr th:only-of-type {\n",
       "        vertical-align: middle;\n",
       "    }\n",
       "\n",
       "    .dataframe tbody tr th {\n",
       "        vertical-align: top;\n",
       "    }\n",
       "\n",
       "    .dataframe thead th {\n",
       "        text-align: right;\n",
       "    }\n",
       "</style>\n",
       "<table border=\"1\" class=\"dataframe\">\n",
       "  <thead>\n",
       "    <tr style=\"text-align: right;\">\n",
       "      <th></th>\n",
       "      <th>Unnamed: 0</th>\n",
       "      <th>Open</th>\n",
       "      <th>High</th>\n",
       "      <th>Low</th>\n",
       "      <th>Close</th>\n",
       "      <th>Adj Close</th>\n",
       "      <th>Volume</th>\n",
       "      <th>Sym</th>\n",
       "      <th>ExpirationDate</th>\n",
       "      <th>index</th>\n",
       "      <th>...</th>\n",
       "      <th>Spent</th>\n",
       "      <th>Sector</th>\n",
       "      <th>ChainLocation</th>\n",
       "      <th>Spent/contract</th>\n",
       "      <th>Spent/share</th>\n",
       "      <th>break_even</th>\n",
       "      <th>Contract period in hrs</th>\n",
       "      <th>Contract period in days</th>\n",
       "      <th>attention</th>\n",
       "      <th>Profit</th>\n",
       "    </tr>\n",
       "  </thead>\n",
       "  <tbody>\n",
       "    <tr>\n",
       "      <th>0</th>\n",
       "      <td>0</td>\n",
       "      <td>10.81</td>\n",
       "      <td>10.97</td>\n",
       "      <td>10.53</td>\n",
       "      <td>10.73</td>\n",
       "      <td>10.73</td>\n",
       "      <td>42128800</td>\n",
       "      <td>AMD</td>\n",
       "      <td>2017-12-01</td>\n",
       "      <td>42368</td>\n",
       "      <td>...</td>\n",
       "      <td>22000</td>\n",
       "      <td>Technology</td>\n",
       "      <td>OTM</td>\n",
       "      <td>220.0</td>\n",
       "      <td>2.2</td>\n",
       "      <td>13.7</td>\n",
       "      <td>172.469722</td>\n",
       "      <td>7</td>\n",
       "      <td>48.0</td>\n",
       "      <td>False</td>\n",
       "    </tr>\n",
       "    <tr>\n",
       "      <th>1</th>\n",
       "      <td>1</td>\n",
       "      <td>10.81</td>\n",
       "      <td>10.97</td>\n",
       "      <td>10.53</td>\n",
       "      <td>10.73</td>\n",
       "      <td>10.73</td>\n",
       "      <td>42128800</td>\n",
       "      <td>AMD</td>\n",
       "      <td>2017-12-01</td>\n",
       "      <td>42461</td>\n",
       "      <td>...</td>\n",
       "      <td>32000</td>\n",
       "      <td>Technology</td>\n",
       "      <td>OTM</td>\n",
       "      <td>320.0</td>\n",
       "      <td>3.2</td>\n",
       "      <td>14.7</td>\n",
       "      <td>247.437778</td>\n",
       "      <td>10</td>\n",
       "      <td>48.0</td>\n",
       "      <td>False</td>\n",
       "    </tr>\n",
       "    <tr>\n",
       "      <th>2</th>\n",
       "      <td>2</td>\n",
       "      <td>10.81</td>\n",
       "      <td>10.97</td>\n",
       "      <td>10.53</td>\n",
       "      <td>10.73</td>\n",
       "      <td>10.73</td>\n",
       "      <td>42128800</td>\n",
       "      <td>AMD</td>\n",
       "      <td>2017-12-01</td>\n",
       "      <td>42511</td>\n",
       "      <td>...</td>\n",
       "      <td>30000</td>\n",
       "      <td>Technology</td>\n",
       "      <td>OTM</td>\n",
       "      <td>300.0</td>\n",
       "      <td>3.0</td>\n",
       "      <td>14.5</td>\n",
       "      <td>245.110556</td>\n",
       "      <td>10</td>\n",
       "      <td>48.0</td>\n",
       "      <td>False</td>\n",
       "    </tr>\n",
       "  </tbody>\n",
       "</table>\n",
       "<p>3 rows × 27 columns</p>\n",
       "</div>"
      ],
      "text/plain": [
       "   Unnamed: 0   Open   High    Low  Close  Adj Close    Volume  Sym  \\\n",
       "0           0  10.81  10.97  10.53  10.73      10.73  42128800  AMD   \n",
       "1           1  10.81  10.97  10.53  10.73      10.73  42128800  AMD   \n",
       "2           2  10.81  10.97  10.53  10.73      10.73  42128800  AMD   \n",
       "\n",
       "  ExpirationDate  index  ...  Spent      Sector ChainLocation Spent/contract  \\\n",
       "0     2017-12-01  42368  ...  22000  Technology           OTM          220.0   \n",
       "1     2017-12-01  42461  ...  32000  Technology           OTM          320.0   \n",
       "2     2017-12-01  42511  ...  30000  Technology           OTM          300.0   \n",
       "\n",
       "   Spent/share  break_even Contract period in hrs  Contract period in days  \\\n",
       "0          2.2        13.7             172.469722                        7   \n",
       "1          3.2        14.7             247.437778                       10   \n",
       "2          3.0        14.5             245.110556                       10   \n",
       "\n",
       "  attention Profit  \n",
       "0      48.0  False  \n",
       "1      48.0  False  \n",
       "2      48.0  False  \n",
       "\n",
       "[3 rows x 27 columns]"
      ]
     },
     "execution_count": 114,
     "metadata": {},
     "output_type": "execute_result"
    }
   ],
   "source": [
    "data = pd.read_csv('../Data/Tech_cleaned.csv')\n",
    "data.head(3)"
   ]
  },
  {
   "cell_type": "code",
   "execution_count": 115,
   "metadata": {
    "executionInfo": {
     "elapsed": 350,
     "status": "ok",
     "timestamp": 1619409436964,
     "user": {
      "displayName": "Tina Guo",
      "photoUrl": "",
      "userId": "10573035161651956848"
     },
     "user_tz": 300
    },
    "id": "mxHUX2RFa4OX"
   },
   "outputs": [],
   "source": [
    "data.drop(['Unnamed: 0','Unnamed: 0.1', 'Spent', 'Spent/contract', 'Open', 'High', 'Low', 'Time', 'Close', 'Adj Close', 'OptionType', 'Sym', 'Expiration', 'ChainLocation', 'Sector', 'Contract period in days', 'index'], axis=1,inplace=True)\n",
    "data['ExpirationDate'] = data['ExpirationDate'].astype('datetime64[ns]').map(dt.toordinal)\n",
    "data['Date'] = data['Date'].astype('datetime64[ns]').map(dt.toordinal)\n",
    "data['Profit'] = data[\"Profit\"].astype(int)\n",
    "data=data.reset_index(drop=True)\n"
   ]
  },
  {
   "cell_type": "code",
   "execution_count": 116,
   "metadata": {
    "colab": {
     "base_uri": "https://localhost:8080/",
     "height": 135
    },
    "executionInfo": {
     "elapsed": 505,
     "status": "ok",
     "timestamp": 1619409439584,
     "user": {
      "displayName": "Tina Guo",
      "photoUrl": "",
      "userId": "10573035161651956848"
     },
     "user_tz": 300
    },
    "id": "Mpk6Nu8Ikugq",
    "outputId": "e1fbd1b0-89e3-4576-d43d-f789fd966d26"
   },
   "outputs": [
    {
     "data": {
      "text/html": [
       "<div>\n",
       "<style scoped>\n",
       "    .dataframe tbody tr th:only-of-type {\n",
       "        vertical-align: middle;\n",
       "    }\n",
       "\n",
       "    .dataframe tbody tr th {\n",
       "        vertical-align: top;\n",
       "    }\n",
       "\n",
       "    .dataframe thead th {\n",
       "        text-align: right;\n",
       "    }\n",
       "</style>\n",
       "<table border=\"1\" class=\"dataframe\">\n",
       "  <thead>\n",
       "    <tr style=\"text-align: right;\">\n",
       "      <th></th>\n",
       "      <th>Volume</th>\n",
       "      <th>ExpirationDate</th>\n",
       "      <th>Strike</th>\n",
       "      <th>StockPrice</th>\n",
       "      <th>Date</th>\n",
       "      <th>Spent/share</th>\n",
       "      <th>break_even</th>\n",
       "      <th>Contract period in hrs</th>\n",
       "      <th>attention</th>\n",
       "      <th>Profit</th>\n",
       "    </tr>\n",
       "  </thead>\n",
       "  <tbody>\n",
       "    <tr>\n",
       "      <th>0</th>\n",
       "      <td>42128800</td>\n",
       "      <td>736664</td>\n",
       "      <td>11.5</td>\n",
       "      <td>11.38</td>\n",
       "      <td>736657</td>\n",
       "      <td>2.2</td>\n",
       "      <td>13.7</td>\n",
       "      <td>172.469722</td>\n",
       "      <td>48.0</td>\n",
       "      <td>0</td>\n",
       "    </tr>\n",
       "    <tr>\n",
       "      <th>1</th>\n",
       "      <td>42128800</td>\n",
       "      <td>736664</td>\n",
       "      <td>11.5</td>\n",
       "      <td>11.46</td>\n",
       "      <td>736654</td>\n",
       "      <td>3.2</td>\n",
       "      <td>14.7</td>\n",
       "      <td>247.437778</td>\n",
       "      <td>48.0</td>\n",
       "      <td>0</td>\n",
       "    </tr>\n",
       "    <tr>\n",
       "      <th>2</th>\n",
       "      <td>42128800</td>\n",
       "      <td>736664</td>\n",
       "      <td>11.5</td>\n",
       "      <td>11.47</td>\n",
       "      <td>736654</td>\n",
       "      <td>3.0</td>\n",
       "      <td>14.5</td>\n",
       "      <td>245.110556</td>\n",
       "      <td>48.0</td>\n",
       "      <td>0</td>\n",
       "    </tr>\n",
       "  </tbody>\n",
       "</table>\n",
       "</div>"
      ],
      "text/plain": [
       "     Volume  ExpirationDate  Strike  StockPrice    Date  Spent/share  \\\n",
       "0  42128800          736664    11.5       11.38  736657          2.2   \n",
       "1  42128800          736664    11.5       11.46  736654          3.2   \n",
       "2  42128800          736664    11.5       11.47  736654          3.0   \n",
       "\n",
       "   break_even  Contract period in hrs  attention  Profit  \n",
       "0        13.7              172.469722       48.0       0  \n",
       "1        14.7              247.437778       48.0       0  \n",
       "2        14.5              245.110556       48.0       0  "
      ]
     },
     "execution_count": 116,
     "metadata": {},
     "output_type": "execute_result"
    }
   ],
   "source": [
    "data.head(3)"
   ]
  },
  {
   "cell_type": "markdown",
   "metadata": {
    "id": "H0DKPxobUoQT"
   },
   "source": [
    "# Split Data 80/20"
   ]
  },
  {
   "cell_type": "markdown",
   "metadata": {
    "id": "WW9oSw_-CsiN"
   },
   "source": [
    "**Data is very imbalanced, we do not have many positive responses**"
   ]
  },
  {
   "cell_type": "code",
   "execution_count": 117,
   "metadata": {},
   "outputs": [],
   "source": [
    "X = data.loc[:, data.columns != 'Profit']"
   ]
  },
  {
   "cell_type": "code",
   "execution_count": 118,
   "metadata": {},
   "outputs": [],
   "source": [
    "y = data.loc[:, data.columns == 'Profit']"
   ]
  },
  {
   "cell_type": "code",
   "execution_count": 119,
   "metadata": {},
   "outputs": [],
   "source": [
    "X_std = scalar.fit_transform(X)"
   ]
  },
  {
   "cell_type": "code",
   "execution_count": 120,
   "metadata": {
    "executionInfo": {
     "elapsed": 221,
     "status": "ok",
     "timestamp": 1619409440699,
     "user": {
      "displayName": "Tina Guo",
      "photoUrl": "",
      "userId": "10573035161651956848"
     },
     "user_tz": 300
    },
    "id": "FvCOzmTd_fn1"
   },
   "outputs": [],
   "source": [
    "X_train, X_test, y_train, y_test = train_test_split(data.loc[:, data.columns != 'Profit'], data.loc[:, data.columns == 'Profit'],random_state = 123, test_size = 0.2)"
   ]
  },
  {
   "cell_type": "code",
   "execution_count": 121,
   "metadata": {},
   "outputs": [],
   "source": [
    "X_train_s, X_test_s, y_train_s, y_test_s = train_test_split(X_std, y,random_state = 123, test_size = 0.2)"
   ]
  },
  {
   "cell_type": "code",
   "execution_count": 122,
   "metadata": {
    "colab": {
     "base_uri": "https://localhost:8080/"
    },
    "executionInfo": {
     "elapsed": 305,
     "status": "ok",
     "timestamp": 1619409441400,
     "user": {
      "displayName": "Tina Guo",
      "photoUrl": "",
      "userId": "10573035161651956848"
     },
     "user_tz": 300
    },
    "id": "Acjug8TGBDyW",
    "outputId": "d8a964d6-14ca-4e9f-e38b-e4bda295b5a1"
   },
   "outputs": [
    {
     "name": "stdout",
     "output_type": "stream",
     "text": [
      "Profit is True:  81\n",
      "Profit is False:  4342\n"
     ]
    }
   ],
   "source": [
    "print(\"Profit is True: \",y_train[y_train == 1].count()[0])\n",
    "print(\"Profit is False: \", y_train[y_train == 0].count()[0])"
   ]
  },
  {
   "cell_type": "code",
   "execution_count": 123,
   "metadata": {
    "colab": {
     "base_uri": "https://localhost:8080/"
    },
    "executionInfo": {
     "elapsed": 241,
     "status": "ok",
     "timestamp": 1619409442176,
     "user": {
      "displayName": "Tina Guo",
      "photoUrl": "",
      "userId": "10573035161651956848"
     },
     "user_tz": 300
    },
    "id": "tRhwNlpqBK2c",
    "outputId": "95b3a718-1495-4577-c792-0875e8120df1"
   },
   "outputs": [
    {
     "name": "stdout",
     "output_type": "stream",
     "text": [
      "Profit is True:  23\n",
      "Profit is False:  1083\n"
     ]
    }
   ],
   "source": [
    "print(\"Profit is True: \",y_test[y_test == 1].count()[0])\n",
    "print(\"Profit is False: \", y_test[y_test == 0].count()[0])"
   ]
  },
  {
   "cell_type": "code",
   "execution_count": 124,
   "metadata": {
    "executionInfo": {
     "elapsed": 168,
     "status": "ok",
     "timestamp": 1619406839599,
     "user": {
      "displayName": "Tina Guo",
      "photoUrl": "",
      "userId": "10573035161651956848"
     },
     "user_tz": 300
    },
    "id": "psyeukRBQ-8t"
   },
   "outputs": [],
   "source": [
    "y_train = y_train.values.ravel()\n",
    "y_test = y_test.values.ravel()"
   ]
  },
  {
   "cell_type": "code",
   "execution_count": 125,
   "metadata": {},
   "outputs": [],
   "source": [
    "y_train_s = y_train_s.values.ravel()"
   ]
  },
  {
   "cell_type": "markdown",
   "metadata": {
    "id": "X1tqy-9JBDlz"
   },
   "source": [
    "# 1.1 KNN"
   ]
  },
  {
   "cell_type": "code",
   "execution_count": 126,
   "metadata": {
    "executionInfo": {
     "elapsed": 15446,
     "status": "ok",
     "timestamp": 1619406856308,
     "user": {
      "displayName": "Tina Guo",
      "photoUrl": "",
      "userId": "10573035161651956848"
     },
     "user_tz": 300
    },
    "id": "k5-rdetFCCKO"
   },
   "outputs": [],
   "source": [
    "param_range_knn = np.arange(2,25)\n",
    "train_scores_knn, test_scores_knn = validation_curve(KNeighborsClassifier(weights = \"uniform\"), X_train, y_train, param_name =\"n_neighbors\", param_range = param_range_knn, cv = 5)"
   ]
  },
  {
   "cell_type": "code",
   "execution_count": 127,
   "metadata": {
    "executionInfo": {
     "elapsed": 13080,
     "status": "ok",
     "timestamp": 1619406856309,
     "user": {
      "displayName": "Tina Guo",
      "photoUrl": "",
      "userId": "10573035161651956848"
     },
     "user_tz": 300
    },
    "id": "_nwQfu3CRXRD"
   },
   "outputs": [],
   "source": [
    "train_scores_mean_knn = np.mean(train_scores_knn, axis = 1)\n",
    "test_scores_mean_knn = np.mean(test_scores_knn, axis = 1)\n",
    "train_scores_std_knn = np.std(train_scores_knn, axis = 1)\n",
    "test_scores_std_knn = np.std(test_scores_knn, axis = 1)\n",
    "knn_best = param_range_knn[np.argsort(test_scores_mean_knn)[-1]]\n",
    "dist = KNeighborsClassifier(n_neighbors = knn_best, weights = \"uniform\").fit(X_train, y_train)"
   ]
  },
  {
   "cell_type": "code",
   "execution_count": 128,
   "metadata": {
    "colab": {
     "base_uri": "https://localhost:8080/",
     "height": 299
    },
    "executionInfo": {
     "elapsed": 12331,
     "status": "ok",
     "timestamp": 1619406856614,
     "user": {
      "displayName": "Tina Guo",
      "photoUrl": "",
      "userId": "10573035161651956848"
     },
     "user_tz": 300
    },
    "id": "Koq38-t0Rg_7",
    "outputId": "6cd5ab48-25aa-41c5-a779-e3166e2d6f2b"
   },
   "outputs": [
    {
     "data": {
      "image/png": "[encoded data removed]",
      "text/plain": [
       "<Figure size 432x288 with 1 Axes>"
      ]
     },
     "metadata": {
      "needs_background": "light"
     },
     "output_type": "display_data"
    }
   ],
   "source": [
    "plt.title(\"Validation Curve - KNN\")\n",
    "plt.xlabel(\"K\")\n",
    "plt.ylabel(\"Score\")\n",
    "\n",
    "lw = 2\n",
    "plt.semilogx(param_range_knn, train_scores_mean_knn, label=\"Training Score\", color=\"darkorange\", lw=lw)\n",
    "plt.fill_between(param_range_knn, train_scores_mean_knn - train_scores_std_knn, train_scores_mean_knn + train_scores_std_knn, alpha=0.2,color=\"darkorange\", lw=lw)\n",
    "plt.semilogx(param_range_knn, test_scores_mean_knn, label=\"Cross-Validation score\", color=\"navy\", lw=lw)\n",
    "plt.fill_between(param_range_knn, test_scores_mean_knn - test_scores_std_knn, test_scores_mean_knn + test_scores_std_knn, alpha=0.2, color=\"navy\", lw=lw)\n",
    "plt.legend(loc=\"best\")\n",
    "plt.show()"
   ]
  },
  {
   "cell_type": "code",
   "execution_count": 129,
   "metadata": {
    "colab": {
     "base_uri": "https://localhost:8080/"
    },
    "executionInfo": {
     "elapsed": 10565,
     "status": "ok",
     "timestamp": 1619406856732,
     "user": {
      "displayName": "Tina Guo",
      "photoUrl": "",
      "userId": "10573035161651956848"
     },
     "user_tz": 300
    },
    "id": "-R7-UBuWRtf7",
    "outputId": "bfe17cde-4db7-4e49-c83c-0da3438bf393"
   },
   "outputs": [
    {
     "name": "stdout",
     "output_type": "stream",
     "text": [
      "The best parameter K :  6\n",
      "Training accuracy: 0.9857562740221569\n",
      "Test accuracy is: 0.9783001808318263\n"
     ]
    }
   ],
   "source": [
    "print(\"The best parameter K : \", knn_best)\n",
    "acc_train = dist.score(X_train, y_train)\n",
    "print('Training accuracy:', acc_train)\n",
    "print('Test accuracy is:', dist.score(X_test, y_test))"
   ]
  },
  {
   "cell_type": "code",
   "execution_count": 130,
   "metadata": {
    "colab": {
     "base_uri": "https://localhost:8080/",
     "height": 297
    },
    "executionInfo": {
     "elapsed": 9403,
     "status": "ok",
     "timestamp": 1619406856839,
     "user": {
      "displayName": "Tina Guo",
      "photoUrl": "",
      "userId": "10573035161651956848"
     },
     "user_tz": 300
    },
    "id": "OUpJcsEgRwuz",
    "outputId": "a0b0fd54-1b9a-46ea-fd00-63e4185a51a9"
   },
   "outputs": [
    {
     "name": "stdout",
     "output_type": "stream",
     "text": [
      "Confusion Matrix with KNN:\n"
     ]
    },
    {
     "data": {
      "image/png": "[encoded data removed]",
      "text/plain": [
       "<Figure size 432x288 with 2 Axes>"
      ]
     },
     "metadata": {
      "needs_background": "light"
     },
     "output_type": "display_data"
    }
   ],
   "source": [
    "CM_knn = plot_confusion_matrix(dist, X_test, y_test, display_labels= [\"No Profit\", \"Profit\"], cmap=plt.cm.Blues)\n",
    "print(\"Confusion Matrix with KNN:\")\n",
    "plt.show()"
   ]
  },
  {
   "cell_type": "markdown",
   "metadata": {
    "id": "C4K7u4VDSEWm"
   },
   "source": [
    "**Because of imbalance in the data, the model is bias and predicted over half of the Profit call options incorrectly. We will try SMOTE and NearMiss to see if it can help fix the bias in our KNN model.**"
   ]
  },
  {
   "cell_type": "markdown",
   "metadata": {
    "id": "DUerpKqWUboZ"
   },
   "source": [
    "# Synthetic Minority Oversampling Technique (SMOTE)"
   ]
  },
  {
   "cell_type": "markdown",
   "metadata": {
    "id": "hffIOUJKUo5W"
   },
   "source": [
    "https://bmcbioinformatics.biomedcentral.com/articles/10.1186/1471-2105-14-106"
   ]
  },
  {
   "cell_type": "code",
   "execution_count": 131,
   "metadata": {},
   "outputs": [
    {
     "name": "stdout",
     "output_type": "stream",
     "text": [
      "Requirement already satisfied: imblearn in c:\\users\\saura\\python\\lib\\site-packages (0.0)\n",
      "Requirement already satisfied: imbalanced-learn in c:\\users\\saura\\python\\lib\\site-packages (from imblearn) (0.8.0)\n",
      "Requirement already satisfied: scikit-learn>=0.24 in c:\\users\\saura\\python\\lib\\site-packages (from imbalanced-learn->imblearn) (0.24.2)\n",
      "Requirement already satisfied: numpy>=1.13.3 in c:\\users\\saura\\python\\lib\\site-packages (from imbalanced-learn->imblearn) (1.19.5)\n",
      "Requirement already satisfied: scipy>=0.19.1 in c:\\users\\saura\\python\\lib\\site-packages (from imbalanced-learn->imblearn) (1.4.1)\n",
      "Requirement already satisfied: joblib>=0.11 in c:\\users\\saura\\python\\lib\\site-packages (from imbalanced-learn->imblearn) (0.14.1)\n",
      "Requirement already satisfied: threadpoolctl>=2.0.0 in c:\\users\\saura\\python\\lib\\site-packages (from scikit-learn>=0.24->imbalanced-learn->imblearn) (2.1.0)\n"
     ]
    },
    {
     "name": "stderr",
     "output_type": "stream",
     "text": [
      "WARNING: Value for scheme.headers does not match. Please report this to <https://github.com/pypa/pip/issues/9617>\n",
      "distutils: c:\\users\\saura\\python\\Include\\UNKNOWN\n",
      "sysconfig: c:\\users\\saura\\python\\Include\n",
      "WARNING: Additional context:\n",
      "user = False\n",
      "home = None\n",
      "root = None\n",
      "prefix = None\n",
      "WARNING: Ignoring invalid distribution -umpy (c:\\users\\saura\\python\\lib\\site-packages)\n",
      "WARNING: Ignoring invalid distribution -umpy (c:\\users\\saura\\python\\lib\\site-packages)\n",
      "WARNING: Ignoring invalid distribution -umpy (c:\\users\\saura\\python\\lib\\site-packages)\n",
      "WARNING: Value for scheme.headers does not match. Please report this to <https://github.com/pypa/pip/issues/9617>\n",
      "distutils: c:\\users\\saura\\python\\Include\\UNKNOWN\n",
      "sysconfig: c:\\users\\saura\\python\\Include\n",
      "WARNING: Additional context:\n",
      "user = False\n",
      "home = None\n",
      "root = None\n",
      "prefix = None\n",
      "WARNING: Ignoring invalid distribution -umpy (c:\\users\\saura\\python\\lib\\site-packages)\n",
      "WARNING: Ignoring invalid distribution -umpy (c:\\users\\saura\\python\\lib\\site-packages)\n",
      "WARNING: Ignoring invalid distribution -umpy (c:\\users\\saura\\python\\lib\\site-packages)\n",
      "WARNING: You are using pip version 21.1; however, version 21.1.1 is available.\n",
      "You should consider upgrading via the 'c:\\users\\saura\\python\\python.exe -m pip install --upgrade pip' command.\n"
     ]
    }
   ],
   "source": [
    "!pip install imblearn"
   ]
  },
  {
   "cell_type": "code",
   "execution_count": 132,
   "metadata": {},
   "outputs": [
    {
     "name": "stdout",
     "output_type": "stream",
     "text": [
      "Requirement already satisfied: delayed in c:\\users\\saura\\python\\lib\\site-packages (0.11.0b1)\n",
      "Requirement already satisfied: redis in c:\\users\\saura\\python\\lib\\site-packages (from delayed) (3.5.3)\n",
      "Requirement already satisfied: hiredis in c:\\users\\saura\\python\\lib\\site-packages (from delayed) (2.0.0)\n"
     ]
    },
    {
     "name": "stderr",
     "output_type": "stream",
     "text": [
      "WARNING: Value for scheme.headers does not match. Please report this to <https://github.com/pypa/pip/issues/9617>\n",
      "distutils: c:\\users\\saura\\python\\Include\\UNKNOWN\n",
      "sysconfig: c:\\users\\saura\\python\\Include\n",
      "WARNING: Additional context:\n",
      "user = False\n",
      "home = None\n",
      "root = None\n",
      "prefix = None\n",
      "WARNING: Ignoring invalid distribution -umpy (c:\\users\\saura\\python\\lib\\site-packages)\n",
      "WARNING: Ignoring invalid distribution -umpy (c:\\users\\saura\\python\\lib\\site-packages)\n",
      "WARNING: Ignoring invalid distribution -umpy (c:\\users\\saura\\python\\lib\\site-packages)\n",
      "WARNING: Value for scheme.headers does not match. Please report this to <https://github.com/pypa/pip/issues/9617>\n",
      "distutils: c:\\users\\saura\\python\\Include\\UNKNOWN\n",
      "sysconfig: c:\\users\\saura\\python\\Include\n",
      "WARNING: Additional context:\n",
      "user = False\n",
      "home = None\n",
      "root = None\n",
      "prefix = None\n",
      "WARNING: Ignoring invalid distribution -umpy (c:\\users\\saura\\python\\lib\\site-packages)\n",
      "WARNING: Ignoring invalid distribution -umpy (c:\\users\\saura\\python\\lib\\site-packages)\n",
      "WARNING: Ignoring invalid distribution -umpy (c:\\users\\saura\\python\\lib\\site-packages)\n",
      "WARNING: You are using pip version 21.1; however, version 21.1.1 is available.\n",
      "You should consider upgrading via the 'c:\\users\\saura\\python\\python.exe -m pip install --upgrade pip' command.\n"
     ]
    }
   ],
   "source": [
    "!pip install delayed"
   ]
  },
  {
   "cell_type": "code",
   "execution_count": 133,
   "metadata": {
    "colab": {
     "base_uri": "https://localhost:8080/"
    },
    "executionInfo": {
     "elapsed": 369,
     "status": "ok",
     "timestamp": 1619406860320,
     "user": {
      "displayName": "Tina Guo",
      "photoUrl": "",
      "userId": "10573035161651956848"
     },
     "user_tz": 300
    },
    "id": "x0o8G3rjTXVr",
    "outputId": "be524a5b-7919-4a7a-f98b-237cd8f9dd34"
   },
   "outputs": [
    {
     "name": "stdout",
     "output_type": "stream",
     "text": [
      "0.8.0\n"
     ]
    }
   ],
   "source": [
    "import imblearn\n",
    "print(imblearn.__version__)\n",
    "from imblearn.over_sampling import SMOTE\n",
    "from collections import Counter"
   ]
  },
  {
   "cell_type": "code",
   "execution_count": 134,
   "metadata": {
    "colab": {
     "base_uri": "https://localhost:8080/"
    },
    "executionInfo": {
     "elapsed": 224,
     "status": "ok",
     "timestamp": 1619406864085,
     "user": {
      "displayName": "Tina Guo",
      "photoUrl": "",
      "userId": "10573035161651956848"
     },
     "user_tz": 300
    },
    "id": "VlreMuFPUICA",
    "outputId": "e033fa65-4194-40cc-e0e9-61990c5b81c9"
   },
   "outputs": [
    {
     "name": "stdout",
     "output_type": "stream",
     "text": [
      "Counter({0: 4342, 1: 4342})\n"
     ]
    }
   ],
   "source": [
    "oversample = SMOTE()\n",
    "X_train_smote, y_train_smote = oversample.fit_resample(X_train, y_train)\n",
    "counter_smote = Counter(y_train_smote)\n",
    "print(counter_smote)"
   ]
  },
  {
   "cell_type": "code",
   "execution_count": 135,
   "metadata": {},
   "outputs": [
    {
     "name": "stdout",
     "output_type": "stream",
     "text": [
      "Counter({0: 4342, 1: 4342})\n"
     ]
    }
   ],
   "source": [
    "oversample = SMOTE()\n",
    "X_train_smote_s, y_train_smote_s = oversample.fit_resample(X_train_s, y_train_s)\n",
    "counter_smote = Counter(y_train_smote_s)\n",
    "print(counter_smote)"
   ]
  },
  {
   "cell_type": "code",
   "execution_count": 136,
   "metadata": {
    "executionInfo": {
     "elapsed": 29153,
     "status": "ok",
     "timestamp": 1619406894523,
     "user": {
      "displayName": "Tina Guo",
      "photoUrl": "",
      "userId": "10573035161651956848"
     },
     "user_tz": 300
    },
    "id": "ksRAnx54UvDe"
   },
   "outputs": [],
   "source": [
    "param_range_knn = np.arange(2,25)\n",
    "train_scores_knn, test_scores_knn = validation_curve(KNeighborsClassifier(weights = \"uniform\"), X_train_smote, y_train_smote, param_name =\"n_neighbors\", param_range = param_range_knn, cv = 5)\n",
    "train_scores_mean_knn = np.mean(train_scores_knn, axis = 1)\n",
    "test_scores_mean_knn = np.mean(test_scores_knn, axis = 1)\n",
    "train_scores_std_knn = np.std(train_scores_knn, axis = 1)\n",
    "test_scores_std_knn = np.std(test_scores_knn, axis = 1)\n",
    "knn_best = param_range_knn[np.argsort(test_scores_mean_knn)[-1]]\n",
    "dist = KNeighborsClassifier(n_neighbors = knn_best, weights = \"uniform\").fit(X_train_smote, y_train_smote)"
   ]
  },
  {
   "cell_type": "code",
   "execution_count": 137,
   "metadata": {
    "colab": {
     "base_uri": "https://localhost:8080/",
     "height": 299
    },
    "executionInfo": {
     "elapsed": 530,
     "status": "ok",
     "timestamp": 1619407011693,
     "user": {
      "displayName": "Tina Guo",
      "photoUrl": "",
      "userId": "10573035161651956848"
     },
     "user_tz": 300
    },
    "id": "NbFwdbGhVTP4",
    "outputId": "f64965e6-2180-4726-b406-b0c71e530bd4"
   },
   "outputs": [
    {
     "data": {
      "image/png": "[encoded data removed]",
      "text/plain": [
       "<Figure size 432x288 with 1 Axes>"
      ]
     },
     "metadata": {
      "needs_background": "light"
     },
     "output_type": "display_data"
    }
   ],
   "source": [
    "plt.title(\"Validation Curve - KNN with SMOTE\")\n",
    "plt.xlabel(\"K\")\n",
    "plt.ylabel(\"Score\")\n",
    "\n",
    "lw = 2\n",
    "plt.semilogx(param_range_knn, train_scores_mean_knn, label=\"Training Score\", color=\"darkorange\", lw=lw)\n",
    "plt.fill_between(param_range_knn, train_scores_mean_knn - train_scores_std_knn, train_scores_mean_knn + train_scores_std_knn, alpha=0.2,color=\"darkorange\", lw=lw)\n",
    "plt.semilogx(param_range_knn, test_scores_mean_knn, label=\"Cross-Validation score\", color=\"navy\", lw=lw)\n",
    "plt.fill_between(param_range_knn, test_scores_mean_knn - test_scores_std_knn, test_scores_mean_knn + test_scores_std_knn, alpha=0.2, color=\"navy\", lw=lw)\n",
    "plt.legend(loc=\"best\")\n",
    "plt.show()"
   ]
  },
  {
   "cell_type": "code",
   "execution_count": 138,
   "metadata": {
    "colab": {
     "base_uri": "https://localhost:8080/"
    },
    "executionInfo": {
     "elapsed": 25977,
     "status": "ok",
     "timestamp": 1619406894914,
     "user": {
      "displayName": "Tina Guo",
      "photoUrl": "",
      "userId": "10573035161651956848"
     },
     "user_tz": 300
    },
    "id": "HtEpjnB1VhxB",
    "outputId": "4ecf2464-ab3e-4560-b5ad-dd8c21b716d5"
   },
   "outputs": [
    {
     "name": "stdout",
     "output_type": "stream",
     "text": [
      "The best parameter K :  3\n",
      "Training accuracy: 0.9569322892676186\n",
      "Test accuracy is: 0.9385171790235082\n"
     ]
    }
   ],
   "source": [
    "print(\"The best parameter K : \", knn_best)\n",
    "acc_train = dist.score(X_train_smote, y_train_smote)\n",
    "print('Training accuracy:', acc_train)\n",
    "print('Test accuracy is:', dist.score(X_test, y_test))"
   ]
  },
  {
   "cell_type": "code",
   "execution_count": 139,
   "metadata": {
    "colab": {
     "base_uri": "https://localhost:8080/",
     "height": 297
    },
    "executionInfo": {
     "elapsed": 24645,
     "status": "ok",
     "timestamp": 1619406895174,
     "user": {
      "displayName": "Tina Guo",
      "photoUrl": "",
      "userId": "10573035161651956848"
     },
     "user_tz": 300
    },
    "id": "AxYu5C_QVa7P",
    "outputId": "e7f917c7-9a06-4280-c297-d19eecfd6c1f"
   },
   "outputs": [
    {
     "name": "stdout",
     "output_type": "stream",
     "text": [
      "Confusion Matrix with KNN:\n"
     ]
    },
    {
     "data": {
      "image/png": "[encoded data removed]",
      "text/plain": [
       "<Figure size 432x288 with 2 Axes>"
      ]
     },
     "metadata": {
      "needs_background": "light"
     },
     "output_type": "display_data"
    }
   ],
   "source": [
    "CM_knn = plot_confusion_matrix(dist, X_test, y_test, display_labels= [\"No Profit\", \"Profit\"], cmap=plt.cm.Blues)\n",
    "print(\"Confusion Matrix with KNN:\")\n",
    "plt.show()"
   ]
  },
  {
   "cell_type": "code",
   "execution_count": 140,
   "metadata": {},
   "outputs": [
    {
     "name": "stdout",
     "output_type": "stream",
     "text": [
      "              precision    recall  f1-score   support\n",
      "\n",
      "           0       0.99      0.95      0.97      1083\n",
      "           1       0.14      0.39      0.21        23\n",
      "\n",
      "    accuracy                           0.94      1106\n",
      "   macro avg       0.56      0.67      0.59      1106\n",
      "weighted avg       0.97      0.94      0.95      1106\n",
      "\n"
     ]
    }
   ],
   "source": [
    "y_pred = dist.predict(X_test)\n",
    "print(classification_report(y_test, y_pred))"
   ]
  },
  {
   "cell_type": "markdown",
   "metadata": {
    "id": "Wt2nQnzgbD8c"
   },
   "source": [
    "# Under-Sampling Technique"
   ]
  },
  {
   "cell_type": "code",
   "execution_count": 141,
   "metadata": {
    "executionInfo": {
     "elapsed": 212,
     "status": "ok",
     "timestamp": 1619406934529,
     "user": {
      "displayName": "Tina Guo",
      "photoUrl": "",
      "userId": "10573035161651956848"
     },
     "user_tz": 300
    },
    "id": "_lLJZsFhbCdp"
   },
   "outputs": [],
   "source": [
    "from imblearn.under_sampling import NearMiss"
   ]
  },
  {
   "cell_type": "code",
   "execution_count": 142,
   "metadata": {
    "colab": {
     "base_uri": "https://localhost:8080/"
    },
    "executionInfo": {
     "elapsed": 250,
     "status": "ok",
     "timestamp": 1619406935323,
     "user": {
      "displayName": "Tina Guo",
      "photoUrl": "",
      "userId": "10573035161651956848"
     },
     "user_tz": 300
    },
    "id": "1zf_mz4XeWSI",
    "outputId": "5937ee83-c637-44e8-c272-fd3d9eb1b6e7"
   },
   "outputs": [
    {
     "name": "stdout",
     "output_type": "stream",
     "text": [
      "Counter({0: 81, 1: 81})\n"
     ]
    }
   ],
   "source": [
    "oversample = NearMiss()\n",
    "X_train_nm, y_train_nm = oversample.fit_resample(X_train, y_train)\n",
    "counter_nm = Counter(y_train_nm)\n",
    "print(counter_nm)"
   ]
  },
  {
   "cell_type": "code",
   "execution_count": 143,
   "metadata": {
    "colab": {
     "base_uri": "https://localhost:8080/",
     "height": 299
    },
    "executionInfo": {
     "elapsed": 2836,
     "status": "ok",
     "timestamp": 1619407042171,
     "user": {
      "displayName": "Tina Guo",
      "photoUrl": "",
      "userId": "10573035161651956848"
     },
     "user_tz": 300
    },
    "id": "2X3Ahzx4fRtd",
    "outputId": "68c92fd3-2100-4eb1-9896-ea4a80b5f758"
   },
   "outputs": [
    {
     "data": {
      "image/png": "[encoded data removed]",
      "text/plain": [
       "<Figure size 432x288 with 1 Axes>"
      ]
     },
     "metadata": {
      "needs_background": "light"
     },
     "output_type": "display_data"
    }
   ],
   "source": [
    "param_range_knn = np.arange(2,25)\n",
    "train_scores_knn, test_scores_knn = validation_curve(KNeighborsClassifier(weights = \"uniform\"), X_train_nm, y_train_nm, param_name =\"n_neighbors\", param_range = param_range_knn, cv = 5)\n",
    "train_scores_mean_knn = np.mean(train_scores_knn, axis = 1)\n",
    "test_scores_mean_knn = np.mean(test_scores_knn, axis = 1)\n",
    "train_scores_std_knn = np.std(train_scores_knn, axis = 1)\n",
    "test_scores_std_knn = np.std(test_scores_knn, axis = 1)\n",
    "knn_best = param_range_knn[np.argsort(test_scores_mean_knn)[-1]]\n",
    "dist = KNeighborsClassifier(n_neighbors = knn_best, weights = \"uniform\").fit(X_train_nm, y_train_nm)\n",
    "\n",
    "plt.title(\"Validation Curve - KNN with NearMiss Undersampling\")\n",
    "plt.xlabel(\"K\")\n",
    "plt.ylabel(\"Score\")\n",
    "\n",
    "lw = 2\n",
    "plt.semilogx(param_range_knn, train_scores_mean_knn, label=\"Training Score\", color=\"darkorange\", lw=lw)\n",
    "plt.fill_between(param_range_knn, train_scores_mean_knn - train_scores_std_knn, train_scores_mean_knn + train_scores_std_knn, alpha=0.2,color=\"darkorange\", lw=lw)\n",
    "plt.semilogx(param_range_knn, test_scores_mean_knn, label=\"Cross-Validation score\", color=\"navy\", lw=lw)\n",
    "plt.fill_between(param_range_knn, test_scores_mean_knn - test_scores_std_knn, test_scores_mean_knn + test_scores_std_knn, alpha=0.2, color=\"navy\", lw=lw)\n",
    "plt.legend(loc=\"best\")\n",
    "plt.show()"
   ]
  },
  {
   "cell_type": "code",
   "execution_count": 144,
   "metadata": {
    "colab": {
     "base_uri": "https://localhost:8080/"
    },
    "executionInfo": {
     "elapsed": 833,
     "status": "ok",
     "timestamp": 1619406939465,
     "user": {
      "displayName": "Tina Guo",
      "photoUrl": "",
      "userId": "10573035161651956848"
     },
     "user_tz": 300
    },
    "id": "hhipaGc_fWOS",
    "outputId": "88d6c19d-0081-46fd-8c3a-eba6a6957697"
   },
   "outputs": [
    {
     "name": "stdout",
     "output_type": "stream",
     "text": [
      "The best parameter K :  3\n",
      "Training accuracy: 0.9197530864197531\n",
      "Test accuracy is: 0.20162748643761302\n"
     ]
    }
   ],
   "source": [
    "print(\"The best parameter K : \", knn_best)\n",
    "acc_train = dist.score(X_train_nm, y_train_nm)\n",
    "print('Training accuracy:', acc_train)\n",
    "print('Test accuracy is:', dist.score(X_test, y_test))"
   ]
  },
  {
   "cell_type": "code",
   "execution_count": 145,
   "metadata": {
    "colab": {
     "base_uri": "https://localhost:8080/",
     "height": 297
    },
    "executionInfo": {
     "elapsed": 393,
     "status": "ok",
     "timestamp": 1619407059675,
     "user": {
      "displayName": "Tina Guo",
      "photoUrl": "",
      "userId": "10573035161651956848"
     },
     "user_tz": 300
    },
    "id": "eIHSPMLJfmxj",
    "outputId": "1d71ce91-1de5-498a-cc52-9b56637e029f"
   },
   "outputs": [
    {
     "name": "stdout",
     "output_type": "stream",
     "text": [
      "Confusion Matrix with KNN NearMiss Undersampling:\n"
     ]
    },
    {
     "data": {
      "image/png": "[encoded data removed]",
      "text/plain": [
       "<Figure size 432x288 with 2 Axes>"
      ]
     },
     "metadata": {
      "needs_background": "light"
     },
     "output_type": "display_data"
    }
   ],
   "source": [
    "CM_knn = plot_confusion_matrix(dist, X_test, y_test, display_labels= [\"No Profit\", \"Profit\"], cmap=plt.cm.Blues)\n",
    "print(\"Confusion Matrix with KNN NearMiss Undersampling:\")\n",
    "plt.show()"
   ]
  },
  {
   "cell_type": "markdown",
   "metadata": {
    "id": "3aCMs9pQ3eZe"
   },
   "source": [
    "# ADASYN"
   ]
  },
  {
   "cell_type": "code",
   "execution_count": 146,
   "metadata": {
    "executionInfo": {
     "elapsed": 370,
     "status": "ok",
     "timestamp": 1619406941401,
     "user": {
      "displayName": "Tina Guo",
      "photoUrl": "",
      "userId": "10573035161651956848"
     },
     "user_tz": 300
    },
    "id": "LK48KnoZ3gqd"
   },
   "outputs": [],
   "source": [
    "from imblearn.over_sampling import ADASYN"
   ]
  },
  {
   "cell_type": "code",
   "execution_count": 147,
   "metadata": {
    "colab": {
     "base_uri": "https://localhost:8080/"
    },
    "executionInfo": {
     "elapsed": 311,
     "status": "ok",
     "timestamp": 1619406941922,
     "user": {
      "displayName": "Tina Guo",
      "photoUrl": "",
      "userId": "10573035161651956848"
     },
     "user_tz": 300
    },
    "id": "NVFLPch33tFq",
    "outputId": "9d6c08d6-e325-4672-d766-d5752d01abeb"
   },
   "outputs": [
    {
     "name": "stdout",
     "output_type": "stream",
     "text": [
      "Counter({0: 4342, 1: 4338})\n"
     ]
    }
   ],
   "source": [
    "oversample = ADASYN(sampling_strategy='minority', n_neighbors=5)\n",
    "X_train_ADASYN, y_train_ADASYN = oversample.fit_resample(X_train, y_train)\n",
    "counter_ADASYN = Counter(y_train_ADASYN)\n",
    "print(counter_ADASYN)"
   ]
  },
  {
   "cell_type": "code",
   "execution_count": 148,
   "metadata": {
    "colab": {
     "base_uri": "https://localhost:8080/",
     "height": 299
    },
    "executionInfo": {
     "elapsed": 28692,
     "status": "ok",
     "timestamp": 1619407099213,
     "user": {
      "displayName": "Tina Guo",
      "photoUrl": "",
      "userId": "10573035161651956848"
     },
     "user_tz": 300
    },
    "id": "DskYEqk2Twtc",
    "outputId": "ed3144a7-5def-4830-e52a-db94743dcac2"
   },
   "outputs": [
    {
     "data": {
      "image/png": "[encoded data removed]",
      "text/plain": [
       "<Figure size 432x288 with 1 Axes>"
      ]
     },
     "metadata": {
      "needs_background": "light"
     },
     "output_type": "display_data"
    }
   ],
   "source": [
    "param_range_knn = np.arange(2,25)\n",
    "train_scores_knn, test_scores_knn = validation_curve(KNeighborsClassifier(weights = \"uniform\"), X_train_ADASYN, y_train_ADASYN, param_name =\"n_neighbors\", param_range = param_range_knn, cv = 5)\n",
    "train_scores_mean_knn = np.mean(train_scores_knn, axis = 1)\n",
    "test_scores_mean_knn = np.mean(test_scores_knn, axis = 1)\n",
    "train_scores_std_knn = np.std(train_scores_knn, axis = 1)\n",
    "test_scores_std_knn = np.std(test_scores_knn, axis = 1)\n",
    "knn_best = param_range_knn[np.argsort(test_scores_mean_knn)[-1]]\n",
    "dist = KNeighborsClassifier(n_neighbors = knn_best, weights = \"uniform\").fit(X_train_nm, y_train_nm)\n",
    "\n",
    "plt.title(\"Validation Curve - KNN ADASYN\")\n",
    "plt.xlabel(\"K\")\n",
    "plt.ylabel(\"Score\")\n",
    "\n",
    "lw = 2\n",
    "plt.semilogx(param_range_knn, train_scores_mean_knn, label=\"Training Score\", color=\"darkorange\", lw=lw)\n",
    "plt.fill_between(param_range_knn, train_scores_mean_knn - train_scores_std_knn, train_scores_mean_knn + train_scores_std_knn, alpha=0.2,color=\"darkorange\", lw=lw)\n",
    "plt.semilogx(param_range_knn, test_scores_mean_knn, label=\"Cross-Validation score\", color=\"navy\", lw=lw)\n",
    "plt.fill_between(param_range_knn, test_scores_mean_knn - test_scores_std_knn, test_scores_mean_knn + test_scores_std_knn, alpha=0.2, color=\"navy\", lw=lw)\n",
    "plt.legend(loc=\"best\")\n",
    "plt.show()"
   ]
  },
  {
   "cell_type": "code",
   "execution_count": 149,
   "metadata": {
    "colab": {
     "base_uri": "https://localhost:8080/"
    },
    "executionInfo": {
     "elapsed": 24736,
     "status": "ok",
     "timestamp": 1619406971891,
     "user": {
      "displayName": "Tina Guo",
      "photoUrl": "",
      "userId": "10573035161651956848"
     },
     "user_tz": 300
    },
    "id": "5P_mbIClT4jF",
    "outputId": "1431e704-fca2-4967-e2f2-7234278eceda"
   },
   "outputs": [
    {
     "name": "stdout",
     "output_type": "stream",
     "text": [
      "The best parameter K :  3\n",
      "Training accuracy: 0.5299539170506913\n",
      "Test accuracy is: 0.20162748643761302\n"
     ]
    }
   ],
   "source": [
    "print(\"The best parameter K : \", knn_best)\n",
    "acc_train = dist.score(X_train_ADASYN, y_train_ADASYN)\n",
    "print('Training accuracy:', acc_train)\n",
    "print('Test accuracy is:', dist.score(X_test, y_test))"
   ]
  },
  {
   "cell_type": "code",
   "execution_count": 150,
   "metadata": {
    "colab": {
     "base_uri": "https://localhost:8080/",
     "height": 297
    },
    "executionInfo": {
     "elapsed": 531,
     "status": "ok",
     "timestamp": 1619407099750,
     "user": {
      "displayName": "Tina Guo",
      "photoUrl": "",
      "userId": "10573035161651956848"
     },
     "user_tz": 300
    },
    "id": "aY2R1vMAT7Z4",
    "outputId": "7402164d-f5c9-4846-a812-3099ea1a982d",
    "scrolled": true
   },
   "outputs": [
    {
     "name": "stdout",
     "output_type": "stream",
     "text": [
      "Confusion Matrix with KNN ADASYN:\n"
     ]
    },
    {
     "data": {
      "image/png": "[encoded data removed]",
      "text/plain": [
       "<Figure size 432x288 with 2 Axes>"
      ]
     },
     "metadata": {
      "needs_background": "light"
     },
     "output_type": "display_data"
    }
   ],
   "source": [
    "CM_knn = plot_confusion_matrix(dist, X_test, y_test, display_labels= [\"No Profit\", \"Profit\"], cmap=plt.cm.Blues)\n",
    "print(\"Confusion Matrix with KNN ADASYN:\")\n",
    "plt.show()"
   ]
  },
  {
   "cell_type": "markdown",
   "metadata": {},
   "source": [
    "##### From the results, we can say that out of SMOTE, ADASYN and NearMiss technique, SMOTE works best for our data-set and will be used for testing other models."
   ]
  },
  {
   "cell_type": "markdown",
   "metadata": {
    "id": "Vy4ELRyBB75D"
   },
   "source": [
    "# 1.2 SVM"
   ]
  },
  {
   "cell_type": "code",
   "execution_count": 151,
   "metadata": {
    "id": "9ayOrWvwSb-F"
   },
   "outputs": [],
   "source": [
    "def svm_val_curv(param_range, model, xt,yt):\n",
    "  # select from the range\n",
    "  print(\"param range:\", param_range)\n",
    "  #test for values of C and set cross validation to 5\n",
    "  train_scores, test_scores = validation_curve(\n",
    "    model, xt,yt, param_name=\"C\", param_range=param_range,\n",
    "      scoring=\"accuracy\", n_jobs=1, cv = 5)\n",
    "  train_scores_mean = np.mean(train_scores, axis=1)\n",
    "  train_scores_std = np.std(train_scores, axis=1)\n",
    "  test_scores_mean = np.mean(test_scores, axis=1)\n",
    "  test_scores_std = np.std(test_scores, axis=1)\n",
    "\n",
    "  print(\"test scores mean:\", test_scores_mean)\n",
    "\n",
    "  # Plot CV error as a function of C\n",
    "  plt.title(\"Validation Curve with SVM\")\n",
    "  plt.xlabel(\"C parameter\")\n",
    "  plt.ylabel(\"Score\")\n",
    "  lw = 2\n",
    "  plt.semilogx(param_range, train_scores_mean, label=\"Training score\",\n",
    "              color=\"darkorange\", lw=lw)\n",
    "  plt.fill_between(param_range, train_scores_mean - train_scores_std,\n",
    "                  train_scores_mean + train_scores_std, alpha=0.2,\n",
    "                  color=\"darkorange\", lw=lw)\n",
    "  plt.semilogx(param_range, test_scores_mean, label=\"Cross-validation score\",\n",
    "              color=\"navy\", lw=lw)\n",
    "  plt.fill_between(param_range, test_scores_mean - test_scores_std,\n",
    "                  test_scores_mean + test_scores_std, alpha=0.2,\n",
    "                  color=\"navy\", lw=lw)\n",
    "  plt.legend(loc=\"best\")\n",
    "  plt.show()\n",
    "  return test_scores_mean"
   ]
  },
  {
   "cell_type": "markdown",
   "metadata": {
    "id": "7-fHRijvXnB0"
   },
   "source": [
    "### SMOTE"
   ]
  },
  {
   "cell_type": "code",
   "execution_count": 152,
   "metadata": {
    "id": "Dvu_x02Gds1y"
   },
   "outputs": [],
   "source": [
    "svc_model_rbf_smote = SVC(kernel = 'rbf', probability=True)"
   ]
  },
  {
   "cell_type": "markdown",
   "metadata": {
    "id": "9wzn2LaQXol1"
   },
   "source": [
    "#### RBF"
   ]
  },
  {
   "cell_type": "code",
   "execution_count": 153,
   "metadata": {},
   "outputs": [],
   "source": [
    "param_range = np.logspace(-5,5, 6)"
   ]
  },
  {
   "cell_type": "code",
   "execution_count": 154,
   "metadata": {
    "id": "eaqF1xCmZA3F"
   },
   "outputs": [
    {
     "name": "stdout",
     "output_type": "stream",
     "text": [
      "param range: [1.e-05 1.e-03 1.e-01 1.e+01 1.e+03 1.e+05]\n",
      "test scores mean: [0.50783423 0.50771909 0.58924466 0.61527078 0.68251899 0.68263214]\n"
     ]
    },
    {
     "data": {
      "image/png": "[encoded data removed]",
      "text/plain": [
       "<Figure size 432x288 with 1 Axes>"
      ]
     },
     "metadata": {
      "needs_background": "light"
     },
     "output_type": "display_data"
    }
   ],
   "source": [
    "test_scores_mean = svm_val_curv(param_range, svc_model_rbf_smote,X_train_smote, y_train_smote)"
   ]
  },
  {
   "cell_type": "code",
   "execution_count": 156,
   "metadata": {
    "id": "k5At9uNdAqRU"
   },
   "outputs": [
    {
     "name": "stdout",
     "output_type": "stream",
     "text": [
      "The best hyperparameter:  100000.0\n"
     ]
    }
   ],
   "source": [
    "C_best = param_range[np.argsort(test_scores_mean)[-1]]\n",
    "print(\"The best hyperparameter: \", C_best)"
   ]
  },
  {
   "cell_type": "code",
   "execution_count": 157,
   "metadata": {},
   "outputs": [
    {
     "data": {
      "text/plain": [
       "SVC(C=100000.0, probability=True)"
      ]
     },
     "execution_count": 157,
     "metadata": {},
     "output_type": "execute_result"
    }
   ],
   "source": [
    "dist = SVC(kernel='rbf',C = C_best, probability = True)\n",
    "dist.fit(X_train_smote, y_train_smote)"
   ]
  },
  {
   "cell_type": "code",
   "execution_count": 158,
   "metadata": {},
   "outputs": [],
   "source": [
    "acc_train = dist.score(X_train_smote, y_train_smote)\n",
    "acc_test = dist.score(X_test, y_test)"
   ]
  },
  {
   "cell_type": "code",
   "execution_count": 159,
   "metadata": {},
   "outputs": [
    {
     "name": "stdout",
     "output_type": "stream",
     "text": [
      "Training accuracy: 0.6915016121602948\n",
      "Test accuracy: 0.783001808318264\n"
     ]
    }
   ],
   "source": [
    "print('Training accuracy:', acc_train)\n",
    "print('Test accuracy:', acc_test)"
   ]
  },
  {
   "cell_type": "code",
   "execution_count": 160,
   "metadata": {
    "id": "UI6RSPPPYX5Z"
   },
   "outputs": [
    {
     "name": "stdout",
     "output_type": "stream",
     "text": [
      "Confusion Matrix with RBF SVM SMOTE:\n"
     ]
    },
    {
     "data": {
      "image/png": "[encoded data removed]",
      "text/plain": [
       "<Figure size 432x288 with 2 Axes>"
      ]
     },
     "metadata": {
      "needs_background": "light"
     },
     "output_type": "display_data"
    }
   ],
   "source": [
    "CM_svm = plot_confusion_matrix(dist, X_test, y_test, display_labels= [\"No Profit\", \"Profit\"], cmap=plt.cm.Blues)\n",
    "print(\"Confusion Matrix with RBF SVM SMOTE:\")\n",
    "plt.show()"
   ]
  },
  {
   "cell_type": "code",
   "execution_count": 161,
   "metadata": {},
   "outputs": [
    {
     "name": "stdout",
     "output_type": "stream",
     "text": [
      "              precision    recall  f1-score   support\n",
      "\n",
      "           0       0.99      0.79      0.88      1083\n",
      "           1       0.05      0.52      0.09        23\n",
      "\n",
      "    accuracy                           0.78      1106\n",
      "   macro avg       0.52      0.66      0.48      1106\n",
      "weighted avg       0.97      0.78      0.86      1106\n",
      "\n"
     ]
    }
   ],
   "source": [
    "y_pred = dist.predict(X_test)\n",
    "print(classification_report(y_test, y_pred))"
   ]
  },
  {
   "cell_type": "markdown",
   "metadata": {},
   "source": [
    "# 1.3 Neural Networks"
   ]
  },
  {
   "cell_type": "code",
   "execution_count": 162,
   "metadata": {},
   "outputs": [
    {
     "name": "stdout",
     "output_type": "stream",
     "text": [
      "Requirement already satisfied: keras in c:\\users\\saura\\python\\lib\\site-packages (2.4.3)\n",
      "Requirement already satisfied: h5py in c:\\users\\saura\\python\\lib\\site-packages (from keras) (2.10.0)\n",
      "Requirement already satisfied: pyyaml in c:\\users\\saura\\python\\lib\\site-packages (from keras) (5.3)\n",
      "Requirement already satisfied: scipy>=0.14 in c:\\users\\saura\\python\\lib\\site-packages (from keras) (1.4.1)\n",
      "Requirement already satisfied: numpy>=1.9.1 in c:\\users\\saura\\python\\lib\\site-packages (from keras) (1.19.5)\n",
      "Requirement already satisfied: six in c:\\users\\saura\\python\\lib\\site-packages (from h5py->keras) (1.15.0)\n"
     ]
    },
    {
     "name": "stderr",
     "output_type": "stream",
     "text": [
      "WARNING: Value for scheme.headers does not match. Please report this to <https://github.com/pypa/pip/issues/9617>\n",
      "distutils: c:\\users\\saura\\python\\Include\\UNKNOWN\n",
      "sysconfig: c:\\users\\saura\\python\\Include\n",
      "WARNING: Additional context:\n",
      "user = False\n",
      "home = None\n",
      "root = None\n",
      "prefix = None\n",
      "WARNING: Ignoring invalid distribution -umpy (c:\\users\\saura\\python\\lib\\site-packages)\n",
      "WARNING: Ignoring invalid distribution -umpy (c:\\users\\saura\\python\\lib\\site-packages)\n",
      "WARNING: Ignoring invalid distribution -umpy (c:\\users\\saura\\python\\lib\\site-packages)\n",
      "WARNING: Value for scheme.headers does not match. Please report this to <https://github.com/pypa/pip/issues/9617>\n",
      "distutils: c:\\users\\saura\\python\\Include\\UNKNOWN\n",
      "sysconfig: c:\\users\\saura\\python\\Include\n",
      "WARNING: Additional context:\n",
      "user = False\n",
      "home = None\n",
      "root = None\n",
      "prefix = None\n",
      "WARNING: Ignoring invalid distribution -umpy (c:\\users\\saura\\python\\lib\\site-packages)\n",
      "WARNING: Ignoring invalid distribution -umpy (c:\\users\\saura\\python\\lib\\site-packages)\n",
      "WARNING: Ignoring invalid distribution -umpy (c:\\users\\saura\\python\\lib\\site-packages)\n",
      "WARNING: You are using pip version 21.1; however, version 21.1.1 is available.\n",
      "You should consider upgrading via the 'c:\\users\\saura\\python\\python.exe -m pip install --upgrade pip' command.\n"
     ]
    }
   ],
   "source": [
    "!pip install keras"
   ]
  },
  {
   "cell_type": "code",
   "execution_count": 163,
   "metadata": {},
   "outputs": [
    {
     "name": "stdout",
     "output_type": "stream",
     "text": [
      "Requirement already satisfied: tensorflow in c:\\users\\saura\\python\\lib\\site-packages (2.4.1)\n",
      "Requirement already satisfied: tensorboard~=2.4 in c:\\users\\saura\\python\\lib\\site-packages (from tensorflow) (2.5.0)\n",
      "Requirement already satisfied: six~=1.15.0 in c:\\users\\saura\\python\\lib\\site-packages (from tensorflow) (1.15.0)\n",
      "Requirement already satisfied: protobuf>=3.9.2 in c:\\users\\saura\\python\\lib\\site-packages (from tensorflow) (3.15.8)\n",
      "Requirement already satisfied: termcolor~=1.1.0 in c:\\users\\saura\\python\\lib\\site-packages (from tensorflow) (1.1.0)\n",
      "Requirement already satisfied: wrapt~=1.12.1 in c:\\users\\saura\\python\\lib\\site-packages (from tensorflow) (1.12.1)\n",
      "Requirement already satisfied: astunparse~=1.6.3 in c:\\users\\saura\\python\\lib\\site-packages (from tensorflow) (1.6.3)\n",
      "Requirement already satisfied: grpcio~=1.32.0 in c:\\users\\saura\\python\\lib\\site-packages (from tensorflow) (1.32.0)\n",
      "Requirement already satisfied: absl-py~=0.10 in c:\\users\\saura\\python\\lib\\site-packages (from tensorflow) (0.12.0)\n",
      "Requirement already satisfied: wheel~=0.35 in c:\\users\\saura\\python\\lib\\site-packages (from tensorflow) (0.36.2)\n",
      "Requirement already satisfied: flatbuffers~=1.12.0 in c:\\users\\saura\\python\\lib\\site-packages (from tensorflow) (1.12)\n",
      "Requirement already satisfied: typing-extensions~=3.7.4 in c:\\users\\saura\\python\\lib\\site-packages (from tensorflow) (3.7.4.3)\n",
      "Requirement already satisfied: gast==0.3.3 in c:\\users\\saura\\python\\lib\\site-packages (from tensorflow) (0.3.3)\n",
      "Requirement already satisfied: keras-preprocessing~=1.1.2 in c:\\users\\saura\\python\\lib\\site-packages (from tensorflow) (1.1.2)\n",
      "Requirement already satisfied: google-pasta~=0.2 in c:\\users\\saura\\python\\lib\\site-packages (from tensorflow) (0.2.0)\n",
      "Requirement already satisfied: numpy~=1.19.2 in c:\\users\\saura\\python\\lib\\site-packages (from tensorflow) (1.19.5)\n",
      "Requirement already satisfied: tensorflow-estimator<2.5.0,>=2.4.0 in c:\\users\\saura\\python\\lib\\site-packages (from tensorflow) (2.4.0)\n",
      "Requirement already satisfied: opt-einsum~=3.3.0 in c:\\users\\saura\\python\\lib\\site-packages (from tensorflow) (3.3.0)\n",
      "Requirement already satisfied: h5py~=2.10.0 in c:\\users\\saura\\python\\lib\\site-packages (from tensorflow) (2.10.0)\n",
      "Requirement already satisfied: tensorboard-data-server<0.7.0,>=0.6.0 in c:\\users\\saura\\python\\lib\\site-packages (from tensorboard~=2.4->tensorflow) (0.6.0)\n",
      "Requirement already satisfied: markdown>=2.6.8 in c:\\users\\saura\\python\\lib\\site-packages (from tensorboard~=2.4->tensorflow) (3.3.4)\n",
      "Requirement already satisfied: google-auth-oauthlib<0.5,>=0.4.1 in c:\\users\\saura\\python\\lib\\site-packages (from tensorboard~=2.4->tensorflow) (0.4.4)\n",
      "Requirement already satisfied: setuptools>=41.0.0 in c:\\users\\saura\\python\\lib\\site-packages (from tensorboard~=2.4->tensorflow) (45.2.0.post20200210)\n",
      "Requirement already satisfied: werkzeug>=0.11.15 in c:\\users\\saura\\python\\lib\\site-packages (from tensorboard~=2.4->tensorflow) (1.0.0)\n",
      "Requirement already satisfied: google-auth<2,>=1.6.3 in c:\\users\\saura\\python\\lib\\site-packages (from tensorboard~=2.4->tensorflow) (1.30.0)\n",
      "Requirement already satisfied: tensorboard-plugin-wit>=1.6.0 in c:\\users\\saura\\python\\lib\\site-packages (from tensorboard~=2.4->tensorflow) (1.8.0)\n",
      "Requirement already satisfied: requests<3,>=2.21.0 in c:\\users\\saura\\python\\lib\\site-packages (from tensorboard~=2.4->tensorflow) (2.22.0)\n",
      "Requirement already satisfied: rsa<5,>=3.1.4 in c:\\users\\saura\\python\\lib\\site-packages (from google-auth<2,>=1.6.3->tensorboard~=2.4->tensorflow) (4.7.2)\n",
      "Requirement already satisfied: pyasn1-modules>=0.2.1 in c:\\users\\saura\\python\\lib\\site-packages (from google-auth<2,>=1.6.3->tensorboard~=2.4->tensorflow) (0.2.8)\n",
      "Requirement already satisfied: cachetools<5.0,>=2.0.0 in c:\\users\\saura\\python\\lib\\site-packages (from google-auth<2,>=1.6.3->tensorboard~=2.4->tensorflow) (4.2.2)\n",
      "Requirement already satisfied: requests-oauthlib>=0.7.0 in c:\\users\\saura\\python\\lib\\site-packages (from google-auth-oauthlib<0.5,>=0.4.1->tensorboard~=2.4->tensorflow) (1.3.0)\n",
      "Requirement already satisfied: importlib-metadata in c:\\users\\saura\\python\\lib\\site-packages (from markdown>=2.6.8->tensorboard~=2.4->tensorflow) (1.5.0)\n",
      "Requirement already satisfied: pyasn1<0.5.0,>=0.4.6 in c:\\users\\saura\\python\\lib\\site-packages (from pyasn1-modules>=0.2.1->google-auth<2,>=1.6.3->tensorboard~=2.4->tensorflow) (0.4.8)\n",
      "Requirement already satisfied: chardet<3.1.0,>=3.0.2 in c:\\users\\saura\\python\\lib\\site-packages (from requests<3,>=2.21.0->tensorboard~=2.4->tensorflow) (3.0.4)\n",
      "Requirement already satisfied: idna<2.9,>=2.5 in c:\\users\\saura\\python\\lib\\site-packages (from requests<3,>=2.21.0->tensorboard~=2.4->tensorflow) (2.8)\n",
      "Requirement already satisfied: certifi>=2017.4.17 in c:\\users\\saura\\python\\lib\\site-packages (from requests<3,>=2.21.0->tensorboard~=2.4->tensorflow) (2019.11.28)\n",
      "Requirement already satisfied: urllib3!=1.25.0,!=1.25.1,<1.26,>=1.21.1 in c:\\users\\saura\\python\\lib\\site-packages (from requests<3,>=2.21.0->tensorboard~=2.4->tensorflow) (1.25.8)\n",
      "Requirement already satisfied: oauthlib>=3.0.0 in c:\\users\\saura\\python\\lib\\site-packages (from requests-oauthlib>=0.7.0->google-auth-oauthlib<0.5,>=0.4.1->tensorboard~=2.4->tensorflow) (3.1.0)\n",
      "Requirement already satisfied: zipp>=0.5 in c:\\users\\saura\\python\\lib\\site-packages (from importlib-metadata->markdown>=2.6.8->tensorboard~=2.4->tensorflow) (2.2.0)\n"
     ]
    },
    {
     "name": "stderr",
     "output_type": "stream",
     "text": [
      "WARNING: Value for scheme.headers does not match. Please report this to <https://github.com/pypa/pip/issues/9617>\n",
      "distutils: c:\\users\\saura\\python\\Include\\UNKNOWN\n",
      "sysconfig: c:\\users\\saura\\python\\Include\n",
      "WARNING: Additional context:\n",
      "user = False\n",
      "home = None\n",
      "root = None\n",
      "prefix = None\n",
      "WARNING: Ignoring invalid distribution -umpy (c:\\users\\saura\\python\\lib\\site-packages)\n",
      "WARNING: Ignoring invalid distribution -umpy (c:\\users\\saura\\python\\lib\\site-packages)\n",
      "WARNING: Ignoring invalid distribution -umpy (c:\\users\\saura\\python\\lib\\site-packages)\n",
      "WARNING: Value for scheme.headers does not match. Please report this to <https://github.com/pypa/pip/issues/9617>\n",
      "distutils: c:\\users\\saura\\python\\Include\\UNKNOWN\n",
      "sysconfig: c:\\users\\saura\\python\\Include\n",
      "WARNING: Additional context:\n",
      "user = False\n",
      "home = None\n",
      "root = None\n",
      "prefix = None\n",
      "WARNING: Ignoring invalid distribution -umpy (c:\\users\\saura\\python\\lib\\site-packages)\n",
      "WARNING: Ignoring invalid distribution -umpy (c:\\users\\saura\\python\\lib\\site-packages)\n",
      "WARNING: Ignoring invalid distribution -umpy (c:\\users\\saura\\python\\lib\\site-packages)\n",
      "WARNING: You are using pip version 21.1; however, version 21.1.1 is available.\n",
      "You should consider upgrading via the 'c:\\users\\saura\\python\\python.exe -m pip install --upgrade pip' command.\n"
     ]
    }
   ],
   "source": [
    "!pip install tensorflow"
   ]
  },
  {
   "cell_type": "code",
   "execution_count": 164,
   "metadata": {},
   "outputs": [],
   "source": [
    "activation_funcs = ['logistic', 'relu'] \n",
    "param_grid = dict(hidden_layer_sizes = [(20,10),(40,20),(20,40,20)], early_stopping = [True, False], activation = activation_funcs, batch_size = [32,64], alpha = [0.0001,0.001,0.01])\n",
    "grid = GridSearchCV(MLPClassifier(), param_grid = param_grid)"
   ]
  },
  {
   "cell_type": "code",
   "execution_count": 165,
   "metadata": {},
   "outputs": [
    {
     "data": {
      "text/plain": [
       "GridSearchCV(estimator=MLPClassifier(),\n",
       "             param_grid={'activation': ['logistic', 'relu'],\n",
       "                         'alpha': [0.0001, 0.001, 0.01], 'batch_size': [32, 64],\n",
       "                         'early_stopping': [True, False],\n",
       "                         'hidden_layer_sizes': [(20, 10), (40, 20),\n",
       "                                                (20, 40, 20)]})"
      ]
     },
     "execution_count": 165,
     "metadata": {},
     "output_type": "execute_result"
    }
   ],
   "source": [
    "grid.fit(X_train_smote, y_train_smote)"
   ]
  },
  {
   "cell_type": "code",
   "execution_count": 166,
   "metadata": {},
   "outputs": [
    {
     "name": "stdout",
     "output_type": "stream",
     "text": [
      "The best performing Neural Network model has following paramters:  {'activation': 'relu', 'alpha': 0.001, 'batch_size': 32, 'early_stopping': True, 'hidden_layer_sizes': (40, 20)}\n"
     ]
    }
   ],
   "source": [
    "print(\"The best performing Neural Network model has following paramters: \", grid.best_params_)"
   ]
  },
  {
   "cell_type": "code",
   "execution_count": 167,
   "metadata": {},
   "outputs": [],
   "source": [
    "dist_nn = MLPClassifier(hidden_layer_sizes = (40,20), activation = 'relu', alpha = 0.0001, batch_size = 32, early_stopping = True, random_state = 0).fit(X_train_smote, y_train_smote)"
   ]
  },
  {
   "cell_type": "code",
   "execution_count": 168,
   "metadata": {},
   "outputs": [
    {
     "name": "stdout",
     "output_type": "stream",
     "text": [
      "Training accuracy: 0.6279364348226624\n",
      "Test accuracy is: 0.5958408679927667\n"
     ]
    }
   ],
   "source": [
    "acc_train = dist_nn.score(X_train_smote, y_train_smote)\n",
    "print('Training accuracy:', acc_train)\n",
    "print('Test accuracy is:', dist_nn.score(X_test, y_test))"
   ]
  },
  {
   "cell_type": "code",
   "execution_count": 170,
   "metadata": {},
   "outputs": [
    {
     "data": {
      "text/plain": [
       "array([0, 1])"
      ]
     },
     "execution_count": 170,
     "metadata": {},
     "output_type": "execute_result"
    }
   ],
   "source": [
    "y_pred = dist_nn.predict(X_test)\n",
    "np.unique(y_pred)"
   ]
  },
  {
   "cell_type": "code",
   "execution_count": 171,
   "metadata": {},
   "outputs": [
    {
     "name": "stdout",
     "output_type": "stream",
     "text": [
      "              precision    recall  f1-score   support\n",
      "\n",
      "           0       0.99      0.59      0.74      1083\n",
      "           1       0.04      0.78      0.07        23\n",
      "\n",
      "    accuracy                           0.60      1106\n",
      "   macro avg       0.52      0.69      0.41      1106\n",
      "weighted avg       0.97      0.60      0.73      1106\n",
      "\n"
     ]
    }
   ],
   "source": [
    "print(classification_report(y_test, y_pred))"
   ]
  },
  {
   "cell_type": "code",
   "execution_count": 172,
   "metadata": {},
   "outputs": [
    {
     "name": "stdout",
     "output_type": "stream",
     "text": [
      "Confusion Matrix with NN:\n"
     ]
    },
    {
     "data": {
      "image/png": "[encoded data removed]",
      "text/plain": [
       "<Figure size 432x288 with 2 Axes>"
      ]
     },
     "metadata": {
      "needs_background": "light"
     },
     "output_type": "display_data"
    }
   ],
   "source": [
    "CM_nn = plot_confusion_matrix(dist_nn, X_test, y_test, display_labels= [\"No Profit\", \"Profit\"], cmap=plt.cm.Blues)\n",
    "print(\"Confusion Matrix with NN:\")\n",
    "plt.show()"
   ]
  },
  {
   "cell_type": "markdown",
   "metadata": {},
   "source": [
    "# 1.4  Logistic Classification"
   ]
  },
  {
   "cell_type": "code",
   "execution_count": 173,
   "metadata": {},
   "outputs": [],
   "source": [
    "from sklearn.preprocessing import StandardScaler\n",
    "scalar = StandardScaler()\n",
    "X_std = scalar.fit_transform(X_train_smote)\n",
    "X_std_train_smote = scalar.fit_transform(X_train_smote)\n",
    "X_std_test = scalar.fit_transform(X_test)"
   ]
  },
  {
   "cell_type": "code",
   "execution_count": 174,
   "metadata": {},
   "outputs": [],
   "source": [
    "from sklearn.linear_model import LogisticRegression"
   ]
  },
  {
   "cell_type": "code",
   "execution_count": 175,
   "metadata": {},
   "outputs": [],
   "source": [
    "c_range = np.logspace(-4, 6, 6)"
   ]
  },
  {
   "cell_type": "code",
   "execution_count": 176,
   "metadata": {},
   "outputs": [],
   "source": [
    "train_scores_l2, valid_scores_l2 = validation_curve(LogisticRegression(solver='lbfgs', max_iter = 1000), X_train_smote_s, y_train_smote_s, param_name = \"C\", param_range = c_range, cv=5)"
   ]
  },
  {
   "cell_type": "code",
   "execution_count": 177,
   "metadata": {},
   "outputs": [],
   "source": [
    "train_scores_mean_l2 = np.mean(train_scores_l2, axis = 1)\n",
    "test_scores_mean_l2 = np.mean(valid_scores_l2, axis = 1)\n",
    "train_scores_std_l2 = np.std(train_scores_l2, axis = 1)\n",
    "test_scores_std_l2 = np.std(valid_scores_l2, axis = 1)"
   ]
  },
  {
   "cell_type": "code",
   "execution_count": 178,
   "metadata": {},
   "outputs": [
    {
     "data": {
      "image/png": "[encoded data removed]",
      "text/plain": [
       "<Figure size 432x288 with 1 Axes>"
      ]
     },
     "metadata": {
      "needs_background": "light"
     },
     "output_type": "display_data"
    }
   ],
   "source": [
    "plt.title(\"Validation Curve - Logitic regression_l2 reg\")\n",
    "plt.xlabel(\"C\")\n",
    "plt.ylabel(\"Score\")\n",
    "\n",
    "lw = 2\n",
    "plt.semilogx(c_range, train_scores_mean_l2, label=\"Training Score\", color=\"darkorange\", lw=lw)\n",
    "plt.fill_between(c_range, train_scores_mean_l2 - train_scores_std_l2, train_scores_mean_l2 + train_scores_std_l2, alpha=0.2,color=\"darkorange\", lw=lw)\n",
    "plt.semilogx(c_range, test_scores_mean_l2, label=\"Cross-Validation score\", color=\"navy\", lw=lw)\n",
    "plt.fill_between(c_range, test_scores_mean_l2 - test_scores_std_l2, test_scores_mean_l2 + test_scores_std_l2, alpha=0.2, color=\"navy\", lw=lw)\n",
    "plt.legend(loc=\"best\")\n",
    "plt.show()"
   ]
  },
  {
   "cell_type": "code",
   "execution_count": 179,
   "metadata": {},
   "outputs": [
    {
     "name": "stdout",
     "output_type": "stream",
     "text": [
      "The best hyperparameter C is:  1.0\n"
     ]
    }
   ],
   "source": [
    "c_best = c_range[np.argsort(test_scores_mean_l2)[-1]]\n",
    "print(\"The best hyperparameter C is: \", c_best)"
   ]
  },
  {
   "cell_type": "code",
   "execution_count": 180,
   "metadata": {},
   "outputs": [],
   "source": [
    "LR_l2 = LogisticRegression(solver='lbfgs',C = c_best).fit(X_train_smote_s, y_train_smote_s)"
   ]
  },
  {
   "cell_type": "code",
   "execution_count": 181,
   "metadata": {},
   "outputs": [
    {
     "data": {
      "text/plain": [
       "array([0.70647164, 0.73859845, 0.76162925, 0.75875065, 0.75921115,\n",
       "       0.75909601])"
      ]
     },
     "execution_count": 181,
     "metadata": {},
     "output_type": "execute_result"
    }
   ],
   "source": [
    "test_scores_mean_l2"
   ]
  },
  {
   "cell_type": "code",
   "execution_count": 183,
   "metadata": {},
   "outputs": [
    {
     "data": {
      "text/plain": [
       "<sklearn.metrics._plot.confusion_matrix.ConfusionMatrixDisplay at 0x2c7200a1ec8>"
      ]
     },
     "execution_count": 183,
     "metadata": {},
     "output_type": "execute_result"
    },
    {
     "data": {
      "image/png": "[encoded data removed]",
      "text/plain": [
       "<Figure size 432x288 with 2 Axes>"
      ]
     },
     "metadata": {
      "needs_background": "light"
     },
     "output_type": "display_data"
    }
   ],
   "source": [
    "plot_confusion_matrix(LR_l2, X_test_s, y_test, display_labels= [\"No Profit\", \"Profit\"], cmap=plt.cm.Blues, normalize = 'true')"
   ]
  },
  {
   "cell_type": "code",
   "execution_count": 184,
   "metadata": {},
   "outputs": [],
   "source": [
    "y_pred = LR_l2.predict(X_test_s)"
   ]
  },
  {
   "cell_type": "code",
   "execution_count": 185,
   "metadata": {},
   "outputs": [
    {
     "name": "stdout",
     "output_type": "stream",
     "text": [
      "              precision    recall  f1-score   support\n",
      "\n",
      "           0       1.00      0.72      0.83      1083\n",
      "           1       0.06      0.87      0.11        23\n",
      "\n",
      "    accuracy                           0.72      1106\n",
      "   macro avg       0.53      0.79      0.47      1106\n",
      "weighted avg       0.98      0.72      0.82      1106\n",
      "\n"
     ]
    }
   ],
   "source": [
    "print(classification_report(y_test, y_pred))"
   ]
  },
  {
   "cell_type": "markdown",
   "metadata": {},
   "source": [
    "# 1.5 Decision Trees"
   ]
  },
  {
   "cell_type": "code",
   "execution_count": 186,
   "metadata": {},
   "outputs": [],
   "source": [
    "from sklearn.tree import DecisionTreeClassifier\n",
    "from sklearn import tree"
   ]
  },
  {
   "cell_type": "code",
   "execution_count": 211,
   "metadata": {},
   "outputs": [],
   "source": [
    "max_depth = np.arange(10,50,2)"
   ]
  },
  {
   "cell_type": "code",
   "execution_count": 212,
   "metadata": {},
   "outputs": [],
   "source": [
    "train_scores_dc, valid_scores_dc= validation_curve(DecisionTreeClassifier(), X_train_smote, y_train_smote, param_name = \"max_depth\", param_range = max_depth, cv=5)"
   ]
  },
  {
   "cell_type": "code",
   "execution_count": 213,
   "metadata": {},
   "outputs": [],
   "source": [
    "train_scores_mean_dc = np.mean(train_scores_dc, axis = 1)\n",
    "test_scores_mean_dc = np.mean(valid_scores_dc, axis = 1)\n",
    "train_scores_std_dc = np.std(train_scores_dc, axis = 1)\n",
    "test_scores_std_dc = np.std(valid_scores_dc, axis = 1)"
   ]
  },
  {
   "cell_type": "code",
   "execution_count": 214,
   "metadata": {},
   "outputs": [
    {
     "data": {
      "text/plain": [
       "array([0.95036758, 0.96015549, 0.96648911, 0.96994368, 0.97074986,\n",
       "       0.97190154, 0.97178626, 0.97178607, 0.97270786, 0.97144097,\n",
       "       0.97213169, 0.97178626, 0.97190141, 0.97063466, 0.97224703,\n",
       "       0.97213162, 0.97259245, 0.97201648, 0.97167086, 0.97236204])"
      ]
     },
     "execution_count": 214,
     "metadata": {},
     "output_type": "execute_result"
    }
   ],
   "source": [
    "test_scores_mean_dc"
   ]
  },
  {
   "cell_type": "code",
   "execution_count": 215,
   "metadata": {},
   "outputs": [
    {
     "data": {
      "image/png": "[encoded data removed]",
      "text/plain": [
       "<Figure size 432x288 with 1 Axes>"
      ]
     },
     "metadata": {
      "needs_background": "light"
     },
     "output_type": "display_data"
    }
   ],
   "source": [
    "plt.title(\"Validation Curve - Decision Trees\")\n",
    "plt.xlabel(\"Depth of the tree\")\n",
    "plt.ylabel(\"Score\")\n",
    "\n",
    "lw = 2\n",
    "plt.semilogx(max_depth, train_scores_mean_dc, label=\"Training Score\", color=\"darkorange\", lw=lw)\n",
    "plt.fill_between(max_depth, train_scores_mean_dc - train_scores_std_dc, train_scores_mean_dc + train_scores_std_dc, alpha=0.2,color=\"darkorange\", lw=lw)\n",
    "plt.semilogx(max_depth, test_scores_mean_dc, label=\"Cross-Validation score\", color=\"navy\", lw=lw)\n",
    "plt.fill_between(max_depth, test_scores_mean_dc - test_scores_std_dc, test_scores_mean_dc + test_scores_std_dc, alpha=0.2, color=\"navy\", lw=lw)\n",
    "plt.legend(loc=\"best\")\n",
    "plt.show()"
   ]
  },
  {
   "cell_type": "code",
   "execution_count": 216,
   "metadata": {},
   "outputs": [
    {
     "name": "stdout",
     "output_type": "stream",
     "text": [
      "The best Depth of the tree is:  26\n"
     ]
    }
   ],
   "source": [
    "depth_best = max_depth[np.argsort(test_scores_mean_dc)[-1]]\n",
    "print(\"The best Depth of the tree is: \", depth_best)"
   ]
  },
  {
   "cell_type": "code",
   "execution_count": 217,
   "metadata": {},
   "outputs": [],
   "source": [
    "DC_m1 = DecisionTreeClassifier(max_depth = depth_best, random_state=0).fit(X_train_smote, y_train_smote)"
   ]
  },
  {
   "cell_type": "code",
   "execution_count": 218,
   "metadata": {},
   "outputs": [
    {
     "data": {
      "text/plain": [
       "<sklearn.metrics._plot.confusion_matrix.ConfusionMatrixDisplay at 0x2c71df741c8>"
      ]
     },
     "execution_count": 218,
     "metadata": {},
     "output_type": "execute_result"
    },
    {
     "data": {
      "image/png": "[encoded data removed]",
      "text/plain": [
       "<Figure size 432x288 with 2 Axes>"
      ]
     },
     "metadata": {
      "needs_background": "light"
     },
     "output_type": "display_data"
    }
   ],
   "source": [
    "plot_confusion_matrix(DC_m1, X_test, y_test, display_labels= [\"No Profit\", \"Profit\"], cmap=plt.cm.Blues, normalize='true')"
   ]
  },
  {
   "cell_type": "code",
   "execution_count": 219,
   "metadata": {},
   "outputs": [
    {
     "name": "stdout",
     "output_type": "stream",
     "text": [
      "              precision    recall  f1-score   support\n",
      "\n",
      "           0       0.99      0.98      0.98      1083\n",
      "           1       0.31      0.48      0.37        23\n",
      "\n",
      "    accuracy                           0.97      1106\n",
      "   macro avg       0.65      0.73      0.68      1106\n",
      "weighted avg       0.97      0.97      0.97      1106\n",
      "\n"
     ]
    }
   ],
   "source": [
    "y_pred = DC_m1.predict(X_test)\n",
    "print(classification_report(y_test, y_pred))"
   ]
  },
  {
   "cell_type": "markdown",
   "metadata": {},
   "source": [
    "# 1.6 Random Forest"
   ]
  },
  {
   "cell_type": "code",
   "execution_count": 196,
   "metadata": {},
   "outputs": [],
   "source": [
    "from sklearn.ensemble import RandomForestClassifier as RFC\n",
    "rfc=RFC(random_state=0)"
   ]
  },
  {
   "cell_type": "code",
   "execution_count": 197,
   "metadata": {},
   "outputs": [],
   "source": [
    "param_grid = { \n",
    "    'n_estimators': np.arange(10,200,20),\n",
    "    'max_depth' : np.arange(10,55,5),\n",
    "}"
   ]
  },
  {
   "cell_type": "code",
   "execution_count": 198,
   "metadata": {},
   "outputs": [
    {
     "data": {
      "text/plain": [
       "GridSearchCV(cv=5, estimator=RandomForestClassifier(random_state=0),\n",
       "             param_grid={'max_depth': array([10, 15, 20, 25, 30, 35, 40, 45, 50]),\n",
       "                         'n_estimators': array([ 10,  30,  50,  70,  90, 110, 130, 150, 170, 190])})"
      ]
     },
     "execution_count": 198,
     "metadata": {},
     "output_type": "execute_result"
    }
   ],
   "source": [
    "CV_rfc = GridSearchCV(estimator=rfc, param_grid=param_grid, cv= 5)\n",
    "CV_rfc.fit(X_train_smote, y_train_smote)"
   ]
  },
  {
   "cell_type": "code",
   "execution_count": 199,
   "metadata": {},
   "outputs": [
    {
     "data": {
      "text/plain": [
       "{'max_depth': 25, 'n_estimators': 190}"
      ]
     },
     "execution_count": 199,
     "metadata": {},
     "output_type": "execute_result"
    }
   ],
   "source": [
    "CV_rfc.best_params_"
   ]
  },
  {
   "cell_type": "code",
   "execution_count": 200,
   "metadata": {},
   "outputs": [],
   "source": [
    "rfc1=RFC(random_state=0, n_estimators= 190, max_depth=25, criterion='gini')"
   ]
  },
  {
   "cell_type": "code",
   "execution_count": 201,
   "metadata": {},
   "outputs": [
    {
     "data": {
      "text/plain": [
       "RandomForestClassifier(max_depth=25, n_estimators=190, random_state=0)"
      ]
     },
     "execution_count": 201,
     "metadata": {},
     "output_type": "execute_result"
    }
   ],
   "source": [
    "rfc1.fit(X_train_smote, y_train_smote)"
   ]
  },
  {
   "cell_type": "code",
   "execution_count": 202,
   "metadata": {},
   "outputs": [],
   "source": [
    "y_pred_rfc1 = rfc1.predict(X_test)"
   ]
  },
  {
   "cell_type": "code",
   "execution_count": 203,
   "metadata": {},
   "outputs": [
    {
     "name": "stdout",
     "output_type": "stream",
     "text": [
      "              precision    recall  f1-score   support\n",
      "\n",
      "           0       0.99      0.99      0.99      1083\n",
      "           1       0.58      0.48      0.52        23\n",
      "\n",
      "    accuracy                           0.98      1106\n",
      "   macro avg       0.78      0.74      0.76      1106\n",
      "weighted avg       0.98      0.98      0.98      1106\n",
      "\n"
     ]
    }
   ],
   "source": [
    "print(classification_report(y_test, y_pred_rfc1))"
   ]
  },
  {
   "cell_type": "code",
   "execution_count": 204,
   "metadata": {},
   "outputs": [
    {
     "data": {
      "text/plain": [
       "<sklearn.metrics._plot.confusion_matrix.ConfusionMatrixDisplay at 0x2c71ddd83c8>"
      ]
     },
     "execution_count": 204,
     "metadata": {},
     "output_type": "execute_result"
    },
    {
     "data": {
      "image/png": "[encoded data removed]",
      "text/plain": [
       "<Figure size 432x288 with 2 Axes>"
      ]
     },
     "metadata": {
      "needs_background": "light"
     },
     "output_type": "display_data"
    }
   ],
   "source": [
    "plot_confusion_matrix(rfc1, X_test, y_test, display_labels= [\"No Profit\", \"Profit\"], cmap=plt.cm.Blues, normalize='true')"
   ]
  },
  {
   "cell_type": "code",
   "execution_count": 210,
   "metadata": {},
   "outputs": [
    {
     "name": "stdout",
     "output_type": "stream",
     "text": [
      "\n",
      "Please wait a moment while I gather a list of all available modules...\n",
      "\n"
     ]
    },
    {
     "name": "stderr",
     "output_type": "stream",
     "text": [
      "C:\\Users\\saura\\Python\\lib\\site-packages\\IPython\\kernel\\__init__.py:13: ShimWarning: The `IPython.kernel` package has been deprecated since IPython 4.0.You should import from ipykernel or jupyter_client instead.\n",
      "  \"You should import from ipykernel or jupyter_client instead.\", ShimWarning)\n",
      "distributed.dashboard.proxy - INFO - To route to workers diagnostics web server please install jupyter-server-proxy: python -m pip install jupyter-server-proxy\n",
      "C:\\Users\\saura\\Python\\lib\\site-packages\\nltk\\twitter\\__init__.py:22: UserWarning: The twython library has not been installed. Some functionality from the twitter package will not be available.\n",
      "  \"The twython library has not been installed. \"\n",
      "C:\\Users\\saura\\Python\\lib\\site-packages\\skimage\\viewer\\utils\\__init__.py:1: UserWarning: Recommended matplotlib backend is `Agg` for full skimage.viewer functionality.\n",
      "  from .core import *\n",
      "C:\\Users\\saura\\Python\\lib\\site-packages\\qtawesome\\iconic_font.py:312: UserWarning: You need to have a running QApplication to use QtAwesome!\n",
      "  warnings.warn(\"You need to have a running \"\n",
      "C:\\Users\\saura\\Python\\lib\\pkgutil.py:107: VisibleDeprecationWarning: zmq.eventloop.minitornado is deprecated in pyzmq 14.0 and will be removed.\n",
      "    Install tornado itself to use zmq with the tornado IOLoop.\n",
      "    \n",
      "  yield from walk_packages(path, info.name+'.', onerror)\n"
     ]
    },
    {
     "name": "stdout",
     "output_type": "stream",
     "text": [
      "Crypto              calendar            mistune             socketserver\n",
      "Cython              certifi             mkl                 socks\n",
      "IPython             cffi                mkl_fft             sockshandler\n",
      "OpenSSL             cgi                 mkl_random          sortedcollections\n",
      "PIL                 cgitb               mmap                sortedcontainers\n",
      "PyQt5               chardet             mmapfile            soupsieve\n",
      "__future__          chunk               mmsystem            sphinx\n",
      "_abc                click               mock                sphinxcontrib\n",
      "_ast                cloudpickle         modulefinder        spyder\n",
      "_asyncio            clyent              more_itertools      spyder_kernels\n",
      "_bisect             cmath               mpmath              sqlalchemy\n",
      "_blake2             cmd                 msgpack             sqlite3\n",
      "_bootlocale         code                msilib              sre_compile\n",
      "_bz2                codecs              msvcrt              sre_constants\n",
      "_cffi_backend       codeop              multipledispatch    sre_parse\n",
      "_codecs             collections         multiprocessing     ssl\n",
      "_codecs_cn          colorama            nacl                sspi\n",
      "_codecs_hk          colorsys            navigator_updater   sspicon\n",
      "_codecs_iso2022     commctrl            nbconvert           stat\n",
      "_codecs_jp          compileall          nbformat            statistics\n",
      "_codecs_kr          comtypes            netbios             statsmodels\n",
      "_codecs_tw          concurrent          netrc               storemagic\n",
      "_collections        conda               networkx            string\n",
      "_collections_abc    conda_build         nltk                stringprep\n",
      "_compat_pickle      conda_env           nntplib             struct\n",
      "_compression        conda_package_handling nose                subprocess\n",
      "_contextvars        conda_verify        notebook            sunau\n",
      "_csv                configparser        nt                  symbol\n",
      "_ctypes             contextlib          ntpath              sympy\n",
      "_ctypes_test        contextlib2         ntsecuritycon       sympyprinting\n",
      "_datetime           contextvars         nturl2path          symtable\n",
      "_decimal            copy                numba               sys\n",
      "_dummy_thread       copyreg             numbers             sysconfig\n",
      "_elementtree        crypt               numexpr             tables\n",
      "_functools          cryptography        numpy               tabnanny\n",
      "_hashlib            csv                 numpydoc            tabulate\n",
      "_heapq              ctypes              oauthlib            tarfile\n",
      "_imp                curl                odbc                tblib\n",
      "_io                 curses              olefile             telnetlib\n",
      "_json               cwp                 opcode              tempfile\n",
      "_locale             cycler              openpyxl            tensorboard\n",
      "_lsprof             cython              operator            tensorboard_data_server\n",
      "_lzma               cythonmagic         opt_einsum          tensorboard_plugin_wit\n",
      "_markupbase         cytoolz             optparse            tensorflow\n",
      "_md5                dask                os                  tensorflow_estimator\n",
      "_msi                dataclasses         packaging           termcolor\n",
      "_multibytecodec     datetime            pandas              terminado\n",
      "_multiprocessing    dateutil            pandocfilters       test\n",
      "_nsis               dbi                 paramiko            test_data\n",
      "_opcode             dbm                 parser              test_pycosat\n",
      "_operator           dde                 parso               testpath\n",
      "_osx_support        decimal             partd               tests\n",
      "_overlapped         decorator           past                textwrap\n",
      "_pickle             defusedxml          pasta               this\n",
      "_py_abc             delayed             path                threading\n",
      "_pydecimal          diff_match_patch    pathlib             threadpoolctl\n",
      "_pyio               difflib             pathlib2            time\n",
      "_pylief             dill                pathtools           timeit\n",
      "_pyrsistent_version dis                 patsy               timer\n",
      "_pytest             distributed         pdb                 tkinter\n",
      "_queue              distutils           pep8                tlz\n",
      "_random             docopt              perfmon             token\n",
      "_sha1               docs                pexpect             tokenize\n",
      "_sha256             doctest             pickle              toolz\n",
      "_sha3               docutils            pickleshare         tornado\n",
      "_sha512             dummy_threading     pickletools         tqdm\n",
      "_signal             easy_install        pip                 trace\n",
      "_sitebuiltins       email               pipdeptree          traceback\n",
      "_socket             encodings           pipes               tracemalloc\n",
      "_sqlite3            ensurepip           pipreqs             traitlets\n",
      "_sre                entrypoints         pkg_resources       tty\n",
      "_ssl                enum                pkginfo             turtle\n",
      "_stat               errno               pkgutil             turtledemo\n",
      "_string             et_xmlfile          platform            typed_ast\n",
      "_strptime           examples            plistlib            types\n",
      "_struct             fastcache           pluggy              typing\n",
      "_symtable           faulthandler        ply                 typing_extensions\n",
      "_system_path        filecmp             poplib              ujson\n",
      "_testbuffer         fileinput           posixpath           unicodecsv\n",
      "_testcapi           filelock            pprint              unicodedata\n",
      "_testconsole        flake8              profile             unittest\n",
      "_testimportmultiple flask               prometheus_client   urllib\n",
      "_testmultiphase     flatbuffers         prompt_toolkit      urllib3\n",
      "_thread             fnmatch             pstats              uu\n",
      "_threading_local    formatter           psutil              uuid\n",
      "_tkinter            fractions           pty                 venv\n",
      "_tracemalloc        fsspec              pvectorc            warnings\n",
      "_warnings           ftplib              py                  watchdog\n",
      "_weakref            functional          py_compile          wave\n",
      "_weakrefset         functools           pyasn1              wcwidth\n",
      "_win32sysloader     future              pyasn1_modules      weakref\n",
      "_winapi             gast                pyclbr              webbrowser\n",
      "_winxptheme         gc                  pycodestyle         webencodings\n",
      "_yaml               genericpath         pycosat             werkzeug\n",
      "abc                 getopt              pycparser           wheel\n",
      "absl                getpass             pycurl              widgetsnbextension\n",
      "adodbapi            gettext             pydoc               win2kras\n",
      "afxres              gevent              pydoc_data          win32api\n",
      "aifc                glob                pydocstyle          win32clipboard\n",
      "alabaster           glob2               pyexpat             win32com\n",
      "anaconda_navigator  google_auth_oauthlib pyflakes            win32con\n",
      "anaconda_project    greenlet            pygments            win32console\n",
      "antigravity         grpc                pylab               win32cred\n",
      "argh                gzip                pylint              win32crypt\n",
      "argparse            h5py                pyls                win32cryptcon\n",
      "array               hashlib             pyls_jsonrpc        win32ctypes\n",
      "asn1crypto          heapdict            pyodbc              win32event\n",
      "ast                 heapq               pyparsing           win32evtlog\n",
      "astroid             hiredis             pyreadline          win32evtlogutil\n",
      "astropy             hmac                pyrsistent          win32file\n",
      "astunparse          html                pytest              win32gui\n",
      "asynchat            html5lib            pytest_arraydiff    win32gui_struct\n",
      "asyncio             http                pytest_astropy_header win32help\n",
      "asyncore            hypothesis          pytest_doctestplus  win32inet\n",
      "atexit              idlelib             pytest_openfiles    win32inetcon\n",
      "atomicwrites        idna                pytest_remotedata   win32job\n",
      "attr                imageio             pythoncom           win32lz\n"
     ]
    },
    {
     "name": "stdout",
     "output_type": "stream",
     "text": [
      "audioop             imagesize           pytrends            win32net\n",
      "autopep8            imaplib             pytz                win32netcon\n",
      "autoreload          imblearn            pywin               win32pdh\n",
      "babel               imghdr              pywin32_bootstrap   win32pdhquery\n",
      "backcall            imp                 pywin32_testutil    win32pdhutil\n",
      "backports           importlib           pywintypes          win32pipe\n",
      "base64              importlib_metadata  pywt                win32print\n",
      "bcrypt              inspect             pyximport           win32process\n",
      "bdb                 intervaltree        qdarkstyle          win32profile\n",
      "binascii            io                  qtawesome           win32ras\n",
      "binhex              ipaddress           qtconsole           win32rcparser\n",
      "binstar_client      ipykernel           qtpy                win32security\n",
      "bisect              ipykernel_launcher  queue               win32service\n",
      "bitarray            ipython_genutils    quopri              win32serviceutil\n",
      "bkcharts            ipywidgets          random              win32timezone\n",
      "bleach              isapi               rasutil             win32trace\n",
      "bokeh               isort               re                  win32traceutil\n",
      "boto                isympy              readline            win32transaction\n",
      "bottleneck          itertools           redis               win32ts\n",
      "brain_argparse      itsdangerous        regcheck            win32ui\n",
      "brain_attrs         jdcal               regutil             win32uiole\n",
      "brain_builtin_inference jedi                reprlib             win32verstamp\n",
      "brain_collections   jinja2              requests            win32wnet\n",
      "brain_crypt         joblib              requests_oauthlib   win_inet_pton\n",
      "brain_curses        json                rlcompleter         win_unicode_console\n",
      "brain_dataclasses   json5               rmagic              wincertstore\n",
      "brain_dateutil      jsonschema          rope                winerror\n",
      "brain_fstrings      jupyter             rsa                 winioctlcon\n",
      "brain_functools     jupyter_client      rtree               winnt\n",
      "brain_gi            jupyter_console     ruamel_yaml         winperf\n",
      "brain_hashlib       jupyter_core        run                 winpty\n",
      "brain_http          jupyterlab          runpy               winreg\n",
      "brain_io            jupyterlab_server   sched               winsound\n",
      "brain_mechanize     keras               scipy               winxpgui\n",
      "brain_multiprocessing keras_preprocessing scripts             winxptheme\n",
      "brain_namedtuple_enum keyring             seaborn             wrapt\n",
      "brain_nose          keyword             secrets             wsgiref\n",
      "brain_numpy_core_fromnumeric kiwisolver          select              xdrlib\n",
      "brain_numpy_core_function_base lazy_object_proxy   selectors           xlrd\n",
      "brain_numpy_core_multiarray lib2to3             send2trash          xlsxwriter\n",
      "brain_numpy_core_numeric libarchive          servicemanager      xlwings\n",
      "brain_numpy_core_numerictypes libfuturize         setuptools          xlwt\n",
      "brain_numpy_core_umath libpasteurize       shelve              xml\n",
      "brain_numpy_ndarray lief                shlex               xmlrpc\n",
      "brain_numpy_random_mtrand linecache           shutil              xmltodict\n",
      "brain_numpy_utils   llvmlite            signal              xxsubtype\n",
      "brain_pkg_resources locale              simplegeneric       yaml\n",
      "brain_pytest        locket              singledispatch      yapf\n",
      "brain_qt            logging             singledispatch_helpers yapftests\n",
      "brain_random        lxml                sip                 yarg\n",
      "brain_re            lzma                sipconfig           zict\n",
      "brain_six           macpath             sipdistutils        zipapp\n",
      "brain_ssl           mailbox             site                zipfile\n",
      "brain_subprocess    mailcap             six                 zipimport\n",
      "brain_threading     markdown            skimage             zipp\n",
      "brain_typing        markupsafe          sklearn             zlib\n",
      "brain_uuid          marshal             sklearn_utils       zmq\n",
      "bs4                 math                smtpd               ~andas\n",
      "builtins            matplotlib          smtplib             ~klearn\n",
      "bz2                 mccabe              sndhdr              ~umpy\n",
      "cProfile            menuinst            snowballstemmer     \n",
      "cachetools          mimetypes           socket              \n",
      "\n",
      "Enter any module name to get more help.  Or, type \"modules spam\" to search\n",
      "for modules whose name or summary contain the string \"spam\".\n",
      "\n"
     ]
    }
   ],
   "source": [
    "help(\"modules\")"
   ]
  },
  {
   "cell_type": "code",
   "execution_count": null,
   "metadata": {},
   "outputs": [],
   "source": []
  }
 ],
 "metadata": {
  "accelerator": "GPU",
  "colab": {
   "collapsed_sections": [],
   "name": "ETF_models.ipynb",
   "provenance": [],
   "toc_visible": true
  },
  "kernelspec": {
   "display_name": "Python 3",
   "language": "python",
   "name": "python3"
  },
  "language_info": {
   "codemirror_mode": {
    "name": "ipython",
    "version": 3
   },
   "file_extension": ".py",
   "mimetype": "text/x-python",
   "name": "python",
   "nbconvert_exporter": "python",
   "pygments_lexer": "ipython3",
   "version": "3.7.6"
  }
 },
 "nbformat": 4,
 "nbformat_minor": 1
}
